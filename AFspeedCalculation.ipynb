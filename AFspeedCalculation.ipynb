{
 "cells": [
  {
   "cell_type": "markdown",
   "metadata": {},
   "source": [
    "`converting sensei matlab code to python.`"
   ]
  },
  {
   "cell_type": "code",
   "execution_count": 29,
   "metadata": {},
   "outputs": [],
   "source": [
    "import numpy as np\n",
    "import matplotlib.pyplot as plt"
   ]
  },
  {
   "cell_type": "code",
   "execution_count": 7,
   "metadata": {},
   "outputs": [],
   "source": [
    "Vmax = 7           # Maximum gliding speed (um/s)\n",
    "k = 300.0          # Spring constant (pN/um)\n",
    "fstall = 9.2       # Stall force (pN)\n",
    "frupt = 9.2        # Rupture force (pN)\n",
    "\n",
    "Tau1 = 0.025               # Binding period (s). 1/k_a See Ishigure & Nitta 2015 IEEE Trans. Nanobiosci.\n",
    "Tau2min = frupt/k/Vmax"
   ]
  },
  {
   "cell_type": "code",
   "execution_count": 68,
   "metadata": {},
   "outputs": [],
   "source": [
    "ActiveMotorRatioTemp = np.arange(0.01,1.01,0.01)"
   ]
  },
  {
   "cell_type": "code",
   "execution_count": 69,
   "metadata": {},
   "outputs": [
    {
     "name": "stdout",
     "output_type": "stream",
     "text": [
      "Critical gamma = 3.9408799171842652 Critical ActiveMotorRatio = 0.2023930993590885\n"
     ]
    }
   ],
   "source": [
    "Tau = Tau1/Tau2min\n",
    "f = frupt/fstall\n",
    "Gamma = np.divide(1.0,ActiveMotorRatioTemp) - 1.0\n",
    "\n",
    "GammaCritical = ((1.0 + Tau)**2)/2.0/f/Tau\n",
    "ActiveMotorRatioCritical = 1.0/(GammaCritical + 1.0)\n",
    "\n",
    "print(\"Critical gamma =\",GammaCritical,\"Critical ActiveMotorRatio =\",ActiveMotorRatioCritical)"
   ]
  },
  {
   "cell_type": "code",
   "execution_count": 70,
   "metadata": {},
   "outputs": [],
   "source": [
    "Counter = 0; ActiveMotorRatio = []; Vplus = []; Vminus = []\n",
    "for I in range(np.size(Gamma)):\n",
    "    if ActiveMotorRatioTemp[I] > ActiveMotorRatioCritical:\n",
    "        Counter = Counter + 1\n",
    "        ActiveMotorRatio.append( ActiveMotorRatioTemp[I] )\n",
    "        Vplus.append( 0.5*Vmax/Tau*(Tau - 1.0 + np.sqrt((1.0 - Tau)**2 + 4.0*Tau - 2.0*f* np.multiply(Tau,Gamma[I]))) )\n",
    "        Vminus.append( 0.5*Vmax/Tau*(Tau - 1.0 - np.sqrt((1.0 - Tau)**2 + 4.0*Tau - 2.0*f* np.multiply(Tau,Gamma[I]))) )\n",
    "        \n",
    "ActiveMotorRatio = np.array(ActiveMotorRatio)\n",
    "Vplus = np.array(Vplus)\n",
    "Vminus = np.array(Vminus)"
   ]
  },
  {
   "cell_type": "code",
   "execution_count": 71,
   "metadata": {},
   "outputs": [
    {
     "data": {
      "text/plain": [
       "[<matplotlib.lines.Line2D at 0x7f8101125828>]"
      ]
     },
     "execution_count": 71,
     "metadata": {},
     "output_type": "execute_result"
    },
    {
     "data": {
      "image/png": "[encoded data removed]",
      "text/plain": [
       "<Figure size 432x288 with 1 Axes>"
      ]
     },
     "metadata": {
      "needs_background": "light"
     },
     "output_type": "display_data"
    }
   ],
   "source": [
    "sth = np.loadtxt('sz10.txt')\n",
    "sdx = np.loadtxt('sd10.txt')\n",
    "plt.errorbar([0.1,0.2,0.3,0.4,0.5,0.6,0.7,0.8,0.9,1.0],sth,sdx)\n",
    "plt.plot(ActiveMotorRatio,Vplus,'r-') #,ActiveMotorRatio,Vminus,'b.',ActiveMotorRatioCritical,0.0,'ro')\n"
   ]
  },
  {
   "cell_type": "code",
   "execution_count": 72,
   "metadata": {},
   "outputs": [
    {
     "data": {
      "text/plain": [
       "array([0.1589573, 0.1726974, 2.0459541, 0.8027931, 0.3562514, 0.2012568,\n",
       "       0.1699733, 0.2706943, 0.168075 , 0.1183896])"
      ]
     },
     "execution_count": 72,
     "metadata": {},
     "output_type": "execute_result"
    }
   ],
   "source": [
    "sdx"
   ]
  },
  {
   "cell_type": "code",
   "execution_count": 73,
   "metadata": {},
   "outputs": [
    {
     "data": {
      "text/plain": [
       "array([0.1684138, 0.2337198, 5.0900066, 5.8620535, 6.8109859, 7.1395484,\n",
       "       7.3679818, 7.3247439, 7.1799009, 7.1338361])"
      ]
     },
     "execution_count": 73,
     "metadata": {},
     "output_type": "execute_result"
    }
   ],
   "source": [
    "sth"
   ]
  },
  {
   "cell_type": "code",
   "execution_count": 74,
   "metadata": {},
   "outputs": [
    {
     "data": {
      "text/plain": [
       "array([0.21, 0.22, 0.23, 0.24, 0.25, 0.26, 0.27, 0.28, 0.29, 0.3 , 0.31,\n",
       "       0.32, 0.33, 0.34, 0.35, 0.36, 0.37, 0.38, 0.39, 0.4 , 0.41, 0.42,\n",
       "       0.43, 0.44, 0.45, 0.46, 0.47, 0.48, 0.49, 0.5 , 0.51, 0.52, 0.53,\n",
       "       0.54, 0.55, 0.56, 0.57, 0.58, 0.59, 0.6 , 0.61, 0.62, 0.63, 0.64,\n",
       "       0.65, 0.66, 0.67, 0.68, 0.69, 0.7 , 0.71, 0.72, 0.73, 0.74, 0.75,\n",
       "       0.76, 0.77, 0.78, 0.79, 0.8 , 0.81, 0.82, 0.83, 0.84, 0.85, 0.86,\n",
       "       0.87, 0.88, 0.89, 0.9 , 0.91, 0.92, 0.93, 0.94, 0.95, 0.96, 0.97,\n",
       "       0.98, 0.99, 1.  ])"
      ]
     },
     "execution_count": 74,
     "metadata": {},
     "output_type": "execute_result"
    }
   ],
   "source": [
    "ActiveMotorRatio"
   ]
  },
  {
   "cell_type": "code",
   "execution_count": null,
   "metadata": {},
   "outputs": [],
   "source": []
  }
 ],
 "metadata": {
  "kernelspec": {
   "display_name": "Python 3",
   "language": "python",
   "name": "python3"
  },
  "language_info": {
   "codemirror_mode": {
    "name": "ipython",
    "version": 3
   },
   "file_extension": ".py",
   "mimetype": "text/x-python",
   "name": "python",
   "nbconvert_exporter": "python",
   "pygments_lexer": "ipython3",
   "version": "3.6.6"
  }
 },
 "nbformat": 4,
 "nbformat_minor": 2
}
