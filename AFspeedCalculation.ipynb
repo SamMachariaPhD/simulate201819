{
 "cells": [
  {
   "cell_type": "markdown",
   "metadata": {},
   "source": [
    "`converting sensei matlab code to python.`"
   ]
  },
  {
   "cell_type": "code",
   "execution_count": 29,
   "metadata": {},
   "outputs": [],
   "source": [
    "import numpy as np\n",
    "import matplotlib.pyplot as plt"
   ]
  },
  {
   "cell_type": "code",
   "execution_count": 7,
   "metadata": {},
   "outputs": [],
   "source": [
    "Vmax = 7           # Maximum gliding speed (um/s)\n",
    "k = 300.0          # Spring constant (pN/um)\n",
    "fstall = 9.2       # Stall force (pN)\n",
    "frupt = 9.2        # Rupture force (pN)\n",
    "\n",
    "Tau1 = 0.025               # Binding period (s). 1/k_a See Ishigure & Nitta 2015 IEEE Trans. Nanobiosci.\n",
    "Tau2min = frupt/k/Vmax"
   ]
  },
  {
   "cell_type": "code",
   "execution_count": 8,
   "metadata": {},
   "outputs": [],
   "source": [
    "ActiveMotorRatioTemp = np.arange(0.01,0.99,0.01)"
   ]
  },
  {
   "cell_type": "code",
   "execution_count": 14,
   "metadata": {},
   "outputs": [
    {
     "name": "stdout",
     "output_type": "stream",
     "text": [
      "Critical gamma = 3.9408799171842652 Critical ActiveMotorRatio = 0.2023930993590885\n"
     ]
    }
   ],
   "source": [
    "Tau = Tau1/Tau2min\n",
    "f = frupt/fstall\n",
    "Gamma = np.divide(1.0,ActiveMotorRatioTemp) - 1.0\n",
    "\n",
    "GammaCritical = ((1.0 + Tau)**2)/2.0/f/Tau\n",
    "ActiveMotorRatioCritical = 1.0/(GammaCritical + 1.0)\n",
    "\n",
    "print(\"Critical gamma =\",GammaCritical,\"Critical ActiveMotorRatio =\",ActiveMotorRatioCritical)"
   ]
  },
  {
   "cell_type": "code",
   "execution_count": 25,
   "metadata": {},
   "outputs": [],
   "source": [
    "Counter = 0; ActiveMotorRatio = []; Vplus = []; Vminus = []\n",
    "for I in range(np.size(Gamma)):\n",
    "    if ActiveMotorRatioTemp[I] > ActiveMotorRatioCritical:\n",
    "        Counter = Counter + 1\n",
    "        ActiveMotorRatio.append( ActiveMotorRatioTemp[I] )\n",
    "        Vplus.append( 0.5*Vmax/Tau*(Tau - 1.0 + np.sqrt((1.0 - Tau)**2 + 4.0*Tau - 2.0*f* np.multiply(Tau,Gamma[I]))) )\n",
    "        Vminus.append( 0.5*Vmax/Tau*(Tau - 1.0 - np.sqrt((1.0 - Tau)**2 + 4.0*Tau - 2.0*f* np.multiply(Tau,Gamma[I]))) )\n",
    "        \n",
    "ActiveMotorRatio = np.array(ActiveMotorRatio)\n",
    "Vplus = np.array(Vplus)\n",
    "Vminus = np.array(Vminus)"
   ]
  },
  {
   "cell_type": "code",
   "execution_count": 30,
   "metadata": {},
   "outputs": [
    {
     "data": {
      "text/plain": [
       "[<matplotlib.lines.Line2D at 0x7f8112c622e8>,\n",
       " <matplotlib.lines.Line2D at 0x7f8101202550>,\n",
       " <matplotlib.lines.Line2D at 0x7f81012028d0>]"
      ]
     },
     "execution_count": 30,
     "metadata": {},
     "output_type": "execute_result"
    },
    {
     "data": {
      "image/png": "[encoded data removed]",
      "text/plain": [
       "<Figure size 432x288 with 1 Axes>"
      ]
     },
     "metadata": {
      "needs_background": "light"
     },
     "output_type": "display_data"
    }
   ],
   "source": [
    "plt.plot(ActiveMotorRatio,Vplus,'r-',ActiveMotorRatio,Vminus,'b.',ActiveMotorRatioCritical,0.0,'ro')"
   ]
  },
  {
   "cell_type": "code",
   "execution_count": null,
   "metadata": {},
   "outputs": [],
   "source": []
  }
 ],
 "metadata": {
  "kernelspec": {
   "display_name": "Python 3",
   "language": "python",
   "name": "python3"
  },
  "language_info": {
   "codemirror_mode": {
    "name": "ipython",
    "version": 3
   },
   "file_extension": ".py",
   "mimetype": "text/x-python",
   "name": "python",
   "nbconvert_exporter": "python",
   "pygments_lexer": "ipython3",
   "version": "3.6.6"
  }
 },
 "nbformat": 4,
 "nbformat_minor": 2
}
