{
 "cells": [
  {
   "cell_type": "code",
   "execution_count": 13,
   "metadata": {},
   "outputs": [],
   "source": [
    "import numpy as np\n",
    "import pandas as pd"
   ]
  },
  {
   "cell_type": "code",
   "execution_count": 53,
   "metadata": {},
   "outputs": [],
   "source": [
    "intParticle = pd.read_csv('IntParticle37R1ATP2000MD2000.vtk', delim_whitespace=True, names=['x','y','z','nan','nan2'])"
   ]
  },
  {
   "cell_type": "code",
   "execution_count": 54,
   "metadata": {},
   "outputs": [],
   "source": [
    "motorno = intParticle.iloc[4:5,1:2].values"
   ]
  },
  {
   "cell_type": "code",
   "execution_count": 55,
   "metadata": {},
   "outputs": [
    {
     "data": {
      "text/plain": [
       "10"
      ]
     },
     "execution_count": 55,
     "metadata": {},
     "output_type": "execute_result"
    }
   ],
   "source": [
    "motorNo = int( np.int_(motorno) )\n",
    "motorNo"
   ]
  },
  {
   "cell_type": "code",
   "execution_count": 56,
   "metadata": {},
   "outputs": [],
   "source": [
    "intParticle = intParticle.drop(['nan','nan2'], axis=1)"
   ]
  },
  {
   "cell_type": "code",
   "execution_count": 57,
   "metadata": {},
   "outputs": [],
   "source": [
    "intParticle1 = intParticle.drop(intParticle.index[motorNo+5:intParticle.index[-1]+1])"
   ]
  },
  {
   "cell_type": "code",
   "execution_count": 58,
   "metadata": {},
   "outputs": [],
   "source": [
    "intParticle2 = intParticle1.drop(intParticle1.index[0:5])"
   ]
  },
  {
   "cell_type": "code",
   "execution_count": 81,
   "metadata": {},
   "outputs": [],
   "source": [
    "intParticle2 = intParticle2.values"
   ]
  },
  {
   "cell_type": "code",
   "execution_count": 82,
   "metadata": {},
   "outputs": [
    {
     "data": {
      "text/plain": [
       "array([['4.20193', '0.15416', '0.00000'],\n",
       "       ['4.17063', '0.15453', '0.00000'],\n",
       "       ['4.25012', '0.17021', '0.00000'],\n",
       "       ['4.62099', '0.34917', '0.00000'],\n",
       "       ['5.06098', '0.76535', '0.00000'],\n",
       "       ['4.94207', '0.63751', '0.00000'],\n",
       "       ['4.91644', '0.61877', '0.00000'],\n",
       "       ['4.93585', '0.59477', '0.00000'],\n",
       "       ['5.47755', '0.90763', '0.00000'],\n",
       "       ['5.62394', '0.92335', '0.00000']], dtype=object)"
      ]
     },
     "execution_count": 82,
     "metadata": {},
     "output_type": "execute_result"
    }
   ],
   "source": [
    "intParticle2"
   ]
  },
  {
   "cell_type": "code",
   "execution_count": 65,
   "metadata": {},
   "outputs": [],
   "source": [
    "MotorSpecie1 = pd.read_csv('MotorSpecie1_37R1ATP2000MD2000.vtk', delim_whitespace=True, names=['x','y','z','nan','nan2'])"
   ]
  },
  {
   "cell_type": "code",
   "execution_count": 69,
   "metadata": {},
   "outputs": [
    {
     "data": {
      "text/plain": [
       "63039"
      ]
     },
     "execution_count": 69,
     "metadata": {},
     "output_type": "execute_result"
    }
   ],
   "source": [
    "Sp1no = MotorSpecie1.iloc[4:5,1:2].values\n",
    "Sp1No = int( np.int_(Sp1no) )\n",
    "Sp1No"
   ]
  },
  {
   "cell_type": "code",
   "execution_count": 75,
   "metadata": {},
   "outputs": [],
   "source": [
    "MotorSpecie1_ = MotorSpecie1.drop(['nan','nan2'], axis=1)\n",
    "MotorSpecie1_ = MotorSpecie1_.drop(MotorSpecie1_.index[Sp1No+5:MotorSpecie1_.index[-1]+1])\n",
    "MotorSpecie1_ = MotorSpecie1_.drop(MotorSpecie1_.index[0:5])"
   ]
  },
  {
   "cell_type": "code",
   "execution_count": 79,
   "metadata": {},
   "outputs": [],
   "source": [
    "MotorSpecie1_ = MotorSpecie1_.values"
   ]
  },
  {
   "cell_type": "code",
   "execution_count": 80,
   "metadata": {},
   "outputs": [
    {
     "data": {
      "text/plain": [
       "array([['3.25291', '-0.86166', '0.00000'],\n",
       "       ['1.53932', '0.64305', '0.00000'],\n",
       "       ['1.05113', '1.39817', '0.00000'],\n",
       "       ...,\n",
       "       ['6.47699', '2.63564', '0.00000'],\n",
       "       ['6.58331', '2.15061', '0.00000'],\n",
       "       ['6.77594', '1.10671', '0.00000']], dtype=object)"
      ]
     },
     "execution_count": 80,
     "metadata": {},
     "output_type": "execute_result"
    }
   ],
   "source": [
    "MotorSpecie1_"
   ]
  },
  {
   "cell_type": "code",
   "execution_count": 86,
   "metadata": {},
   "outputs": [
    {
     "ename": "ValueError",
     "evalue": "operands could not be broadcast together with shapes (63039,3) (10,3) ",
     "output_type": "error",
     "traceback": [
      "\u001b[0;31m---------------------------------------------------------------------------\u001b[0m",
      "\u001b[0;31mValueError\u001b[0m                                Traceback (most recent call last)",
      "\u001b[0;32m<ipython-input-86-20d97f57da9d>\u001b[0m in \u001b[0;36m<module>\u001b[0;34m\u001b[0m\n\u001b[0;32m----> 1\u001b[0;31m \u001b[0mnp\u001b[0m\u001b[0;34m.\u001b[0m\u001b[0msum\u001b[0m\u001b[0;34m(\u001b[0m \u001b[0mnp\u001b[0m\u001b[0;34m.\u001b[0m\u001b[0mall\u001b[0m\u001b[0;34m(\u001b[0m \u001b[0mnp\u001b[0m\u001b[0;34m.\u001b[0m\u001b[0mequal\u001b[0m\u001b[0;34m(\u001b[0m\u001b[0mMotorSpecie1_\u001b[0m\u001b[0;34m,\u001b[0m\u001b[0mintParticle2\u001b[0m\u001b[0;34m)\u001b[0m\u001b[0;34m,\u001b[0m \u001b[0maxis\u001b[0m\u001b[0;34m=\u001b[0m\u001b[0;36m1\u001b[0m\u001b[0;34m)\u001b[0m \u001b[0;34m)\u001b[0m\u001b[0;34m\u001b[0m\u001b[0m\n\u001b[0m",
      "\u001b[0;31mValueError\u001b[0m: operands could not be broadcast together with shapes (63039,3) (10,3) "
     ]
    }
   ],
   "source": [
    "np.sum( np.all( np.equal(MotorSpecie1_,intParticle2), axis=1) )"
   ]
  },
  {
   "cell_type": "code",
   "execution_count": 87,
   "metadata": {},
   "outputs": [],
   "source": [
    "sth = np.insert(intParticle2,2,np.nan, axis=0)"
   ]
  },
  {
   "cell_type": "code",
   "execution_count": 88,
   "metadata": {},
   "outputs": [
    {
     "data": {
      "text/plain": [
       "array([['4.20193', '0.15416', '0.00000'],\n",
       "       ['4.17063', '0.15453', '0.00000'],\n",
       "       [nan, nan, nan],\n",
       "       ['4.25012', '0.17021', '0.00000'],\n",
       "       ['4.62099', '0.34917', '0.00000'],\n",
       "       ['5.06098', '0.76535', '0.00000'],\n",
       "       ['4.94207', '0.63751', '0.00000'],\n",
       "       ['4.91644', '0.61877', '0.00000'],\n",
       "       ['4.93585', '0.59477', '0.00000'],\n",
       "       ['5.47755', '0.90763', '0.00000'],\n",
       "       ['5.62394', '0.92335', '0.00000']], dtype=object)"
      ]
     },
     "execution_count": 88,
     "metadata": {},
     "output_type": "execute_result"
    }
   ],
   "source": [
    "sth"
   ]
  },
  {
   "cell_type": "code",
   "execution_count": 90,
   "metadata": {},
   "outputs": [],
   "source": [
    "emp = np.empty((3,3))"
   ]
  },
  {
   "cell_type": "code",
   "execution_count": 91,
   "metadata": {},
   "outputs": [],
   "source": [
    "emp[:] = np.nan"
   ]
  },
  {
   "cell_type": "code",
   "execution_count": 92,
   "metadata": {},
   "outputs": [
    {
     "data": {
      "text/plain": [
       "array([[nan, nan, nan],\n",
       "       [nan, nan, nan],\n",
       "       [nan, nan, nan]])"
      ]
     },
     "execution_count": 92,
     "metadata": {},
     "output_type": "execute_result"
    }
   ],
   "source": [
    "emp"
   ]
  },
  {
   "cell_type": "code",
   "execution_count": 93,
   "metadata": {},
   "outputs": [
    {
     "data": {
      "text/plain": [
       "array([[6.93404565e-310, 5.30276956e+180, 1.57076922e-076],\n",
       "       [4.57752921e-071, 3.86226062e-086, 3.35709102e-143],\n",
       "       [6.01433264e+175, 6.93885958e+218, 5.56218858e+180]])"
      ]
     },
     "execution_count": 93,
     "metadata": {},
     "output_type": "execute_result"
    }
   ],
   "source": [
    "sm = np.empty((3,3))\n",
    "sm"
   ]
  },
  {
   "cell_type": "code",
   "execution_count": 98,
   "metadata": {},
   "outputs": [
    {
     "data": {
      "text/plain": [
       "array([[6.93404565e-310, 5.30276956e+180, 1.57076922e-076],\n",
       "       [4.57752921e-071, 3.86226062e-086, 3.35709102e-143],\n",
       "       [6.01433264e+175, 6.93885958e+218, 5.56218858e+180],\n",
       "       [            nan,             nan,             nan],\n",
       "       [            nan,             nan,             nan],\n",
       "       [            nan,             nan,             nan]])"
      ]
     },
     "execution_count": 98,
     "metadata": {},
     "output_type": "execute_result"
    }
   ],
   "source": [
    "sm2 = np.append(sm,emp,axis=0)\n",
    "sm2"
   ]
  },
  {
   "cell_type": "code",
   "execution_count": 99,
   "metadata": {},
   "outputs": [
    {
     "data": {
      "text/plain": [
       "(63039, 3)"
      ]
     },
     "execution_count": 99,
     "metadata": {},
     "output_type": "execute_result"
    }
   ],
   "source": [
    "MotorSpecie1_.shape"
   ]
  },
  {
   "cell_type": "code",
   "execution_count": 100,
   "metadata": {},
   "outputs": [
    {
     "data": {
      "text/plain": [
       "(10, 3)"
      ]
     },
     "execution_count": 100,
     "metadata": {},
     "output_type": "execute_result"
    }
   ],
   "source": [
    "intParticle2.shape"
   ]
  },
  {
   "cell_type": "code",
   "execution_count": 103,
   "metadata": {},
   "outputs": [],
   "source": [
    "shp = MotorSpecie1_.shape[0] - intParticle2.shape[0]"
   ]
  },
  {
   "cell_type": "code",
   "execution_count": 104,
   "metadata": {},
   "outputs": [],
   "source": [
    "nemp = np.empty((shp,3))\n",
    "nemp[:] = np.nan\n",
    "intParticle2_ = np.append(intParticle2,nemp,axis=0)"
   ]
  },
  {
   "cell_type": "code",
   "execution_count": 105,
   "metadata": {},
   "outputs": [
    {
     "data": {
      "text/plain": [
       "(63039, 3)"
      ]
     },
     "execution_count": 105,
     "metadata": {},
     "output_type": "execute_result"
    }
   ],
   "source": [
    "intParticle2_.shape"
   ]
  },
  {
   "cell_type": "code",
   "execution_count": 107,
   "metadata": {},
   "outputs": [
    {
     "data": {
      "text/plain": [
       "array([['4.20193', '0.15416', '0.00000'],\n",
       "       ['4.17063', '0.15453', '0.00000'],\n",
       "       ['4.25012', '0.17021', '0.00000'],\n",
       "       ...,\n",
       "       [nan, nan, nan],\n",
       "       [nan, nan, nan],\n",
       "       [nan, nan, nan]], dtype=object)"
      ]
     },
     "execution_count": 107,
     "metadata": {},
     "output_type": "execute_result"
    }
   ],
   "source": [
    "intParticle2_"
   ]
  },
  {
   "cell_type": "code",
   "execution_count": 108,
   "metadata": {},
   "outputs": [
    {
     "data": {
      "text/plain": [
       "array([['4.20193', '0.15416', '0.00000'],\n",
       "       ['4.17063', '0.15453', '0.00000'],\n",
       "       ['4.25012', '0.17021', '0.00000'],\n",
       "       ['4.62099', '0.34917', '0.00000'],\n",
       "       ['5.06098', '0.76535', '0.00000'],\n",
       "       ['4.94207', '0.63751', '0.00000'],\n",
       "       ['4.91644', '0.61877', '0.00000'],\n",
       "       ['4.93585', '0.59477', '0.00000'],\n",
       "       ['5.47755', '0.90763', '0.00000'],\n",
       "       ['5.62394', '0.92335', '0.00000']], dtype=object)"
      ]
     },
     "execution_count": 108,
     "metadata": {},
     "output_type": "execute_result"
    }
   ],
   "source": [
    "intParticle2"
   ]
  },
  {
   "cell_type": "code",
   "execution_count": 111,
   "metadata": {},
   "outputs": [],
   "source": [
    "chk = 1*np.equal(MotorSpecie1_,intParticle2_)"
   ]
  },
  {
   "cell_type": "code",
   "execution_count": 112,
   "metadata": {},
   "outputs": [
    {
     "data": {
      "text/plain": [
       "array([0, 0, 0, ..., 0, 0, 0])"
      ]
     },
     "execution_count": 112,
     "metadata": {},
     "output_type": "execute_result"
    }
   ],
   "source": [
    "chk[:,0]"
   ]
  },
  {
   "cell_type": "code",
   "execution_count": 113,
   "metadata": {},
   "outputs": [
    {
     "data": {
      "text/plain": [
       "0"
      ]
     },
     "execution_count": 113,
     "metadata": {},
     "output_type": "execute_result"
    }
   ],
   "source": [
    "np.sum(chk[:,0])"
   ]
  },
  {
   "cell_type": "code",
   "execution_count": 119,
   "metadata": {},
   "outputs": [
    {
     "data": {
      "text/plain": [
       "array(['4.20193', '0.15416', '0.00000'], dtype=object)"
      ]
     },
     "execution_count": 119,
     "metadata": {},
     "output_type": "execute_result"
    }
   ],
   "source": [
    "MotorSpecie1_[187]"
   ]
  },
  {
   "cell_type": "code",
   "execution_count": 120,
   "metadata": {},
   "outputs": [
    {
     "data": {
      "text/plain": [
       "array(['4.20193', '0.15416', '0.00000'], dtype=object)"
      ]
     },
     "execution_count": 120,
     "metadata": {},
     "output_type": "execute_result"
    }
   ],
   "source": [
    "intParticle2_[0]"
   ]
  },
  {
   "cell_type": "code",
   "execution_count": 129,
   "metadata": {},
   "outputs": [
    {
     "data": {
      "text/plain": [
       "array([ True,  True,  True])"
      ]
     },
     "execution_count": 129,
     "metadata": {},
     "output_type": "execute_result"
    }
   ],
   "source": [
    "np.equal(MotorSpecie1_[187],intParticle2_[0])"
   ]
  },
  {
   "cell_type": "code",
   "execution_count": 122,
   "metadata": {},
   "outputs": [
    {
     "data": {
      "text/plain": [
       "array([0, 0, 0])"
      ]
     },
     "execution_count": 122,
     "metadata": {},
     "output_type": "execute_result"
    }
   ],
   "source": [
    "chk[187]"
   ]
  },
  {
   "cell_type": "code",
   "execution_count": 124,
   "metadata": {},
   "outputs": [
    {
     "data": {
      "text/plain": [
       "(10, 3)"
      ]
     },
     "execution_count": 124,
     "metadata": {},
     "output_type": "execute_result"
    }
   ],
   "source": [
    "intParticle2.shape"
   ]
  },
  {
   "cell_type": "code",
   "execution_count": 127,
   "metadata": {},
   "outputs": [
    {
     "data": {
      "text/plain": [
       "array(['5.62394', '0.92335', '0.00000'], dtype=object)"
      ]
     },
     "execution_count": 127,
     "metadata": {},
     "output_type": "execute_result"
    }
   ],
   "source": [
    "intParticle2[motorNo-1]"
   ]
  },
  {
   "cell_type": "code",
   "execution_count": 139,
   "metadata": {},
   "outputs": [
    {
     "name": "stdout",
     "output_type": "stream",
     "text": [
      "all rows equal\n"
     ]
    }
   ],
   "source": [
    "if (sum(1*np.equal(MotorSpecie1_[187],intParticle2_[0])) == 3):\n",
    "    print('all rows equal')"
   ]
  },
  {
   "cell_type": "code",
   "execution_count": 141,
   "metadata": {},
   "outputs": [
    {
     "data": {
      "text/plain": [
       "10"
      ]
     },
     "execution_count": 141,
     "metadata": {},
     "output_type": "execute_result"
    }
   ],
   "source": [
    "smt = 0; count=0\n",
    "while smt < motorNo:\n",
    "    for i in range(0,MotorSpecie1_.shape[0]):\n",
    "        if(np.sum(1*np.equal(MotorSpecie1_[i],intParticle2_[smt])) == 3):\n",
    "            count = count+1\n",
    "    smt = smt+1\n",
    "count"
   ]
  },
  {
   "cell_type": "code",
   "execution_count": 153,
   "metadata": {},
   "outputs": [
    {
     "name": "stdout",
     "output_type": "stream",
     "text": [
      "active motors = 10 zombie motors = 0\n"
     ]
    }
   ],
   "source": [
    "intParticle = pd.read_csv('IntParticle37R1ATP2000MD2000.vtk', delim_whitespace=True, names=['x','y','z','nan','nan2'])\n",
    "motorno = intParticle.iloc[4:5,1:2].values\n",
    "motorNo = int( np.int_(motorno) )\n",
    "\n",
    "intParticle = intParticle.drop(['nan','nan2'], axis=1)\n",
    "intParticl = intParticle.drop(intParticle.index[motorNo+5:intParticle.index[-1]+1])\n",
    "intPartic = intParticl.drop(intParticl.index[0:5])\n",
    "intPartic = intPartic.values\n",
    "\n",
    "MotorSpecie1 = pd.read_csv('MotorSpecie1_37R1ATP2000MD2000.vtk', delim_whitespace=True, names=['x','y','z','nan','nan2'])\n",
    "Sp1no = MotorSpecie1.iloc[4:5,1:2].values\n",
    "Sp1No = int( np.int_(Sp1no) )\n",
    "\n",
    "MotorSpecie1_ = MotorSpecie1.drop(['nan','nan2'], axis=1)\n",
    "MotorSpecie1_ = MotorSpecie1_.drop(MotorSpecie1_.index[Sp1No+5:MotorSpecie1_.index[-1]+1])\n",
    "MotorSpecie1_ = MotorSpecie1_.drop(MotorSpecie1_.index[0:5])\n",
    "MotorSpecie1_ = MotorSpecie1_.values\n",
    "\n",
    "activeM=0\n",
    "for k in range(0, motorNo):\n",
    "    for i in range(0,MotorSpecie1_.shape[0]):\n",
    "        if(np.sum(1*np.equal(MotorSpecie1_[i],intPartic[k])) == 3):\n",
    "            activeM = activeM+1\n",
    "\n",
    "print(\"active motors =\", activeM, \"zombie motors =\", motorNo-activeM)"
   ]
  },
  {
   "cell_type": "code",
   "execution_count": 147,
   "metadata": {},
   "outputs": [
    {
     "data": {
      "text/plain": [
       "(63039, 3)"
      ]
     },
     "execution_count": 147,
     "metadata": {},
     "output_type": "execute_result"
    }
   ],
   "source": [
    "MotorSpecie1_.shape"
   ]
  },
  {
   "cell_type": "code",
   "execution_count": 156,
   "metadata": {},
   "outputs": [
    {
     "data": {
      "text/plain": [
       "39.34"
      ]
     },
     "execution_count": 156,
     "metadata": {},
     "output_type": "execute_result"
    }
   ],
   "source": [
    "activeATP50 = np.loadtxt('Abm_no673ATP50R0.3.csv')\n",
    "activeATP50.mean()"
   ]
  },
  {
   "cell_type": "code",
   "execution_count": 157,
   "metadata": {},
   "outputs": [
    {
     "data": {
      "text/plain": [
       "6.444563600430986"
      ]
     },
     "execution_count": 157,
     "metadata": {},
     "output_type": "execute_result"
    }
   ],
   "source": [
    "activeATP50.std()"
   ]
  },
  {
   "cell_type": "code",
   "execution_count": 158,
   "metadata": {},
   "outputs": [
    {
     "data": {
      "text/plain": [
       "25.462"
      ]
     },
     "execution_count": 158,
     "metadata": {},
     "output_type": "execute_result"
    }
   ],
   "source": [
    "activeATP100 = np.loadtxt('Abm_no673ATP100R0.3.csv')\n",
    "activeATP100.mean()"
   ]
  },
  {
   "cell_type": "code",
   "execution_count": 159,
   "metadata": {},
   "outputs": [
    {
     "data": {
      "text/plain": [
       "4.931182008403259"
      ]
     },
     "execution_count": 159,
     "metadata": {},
     "output_type": "execute_result"
    }
   ],
   "source": [
    "activeATP100.std()"
   ]
  },
  {
   "cell_type": "code",
   "execution_count": 160,
   "metadata": {},
   "outputs": [
    {
     "data": {
      "text/plain": [
       "16.798"
      ]
     },
     "execution_count": 160,
     "metadata": {},
     "output_type": "execute_result"
    }
   ],
   "source": [
    "activeATP200 = np.loadtxt('Abm_no673ATP200R0.3.csv')\n",
    "activeATP200.mean()"
   ]
  },
  {
   "cell_type": "code",
   "execution_count": 161,
   "metadata": {},
   "outputs": [
    {
     "data": {
      "text/plain": [
       "4.712238958287238"
      ]
     },
     "execution_count": 161,
     "metadata": {},
     "output_type": "execute_result"
    }
   ],
   "source": [
    "activeATP200.std()"
   ]
  },
  {
   "cell_type": "code",
   "execution_count": null,
   "metadata": {},
   "outputs": [],
   "source": []
  }
 ],
 "metadata": {
  "kernelspec": {
   "display_name": "Python 3",
   "language": "python",
   "name": "python3"
  },
  "language_info": {
   "codemirror_mode": {
    "name": "ipython",
    "version": 3
   },
   "file_extension": ".py",
   "mimetype": "text/x-python",
   "name": "python",
   "nbconvert_exporter": "python",
   "pygments_lexer": "ipython3",
   "version": "3.6.6"
  }
 },
 "nbformat": 4,
 "nbformat_minor": 2
}
