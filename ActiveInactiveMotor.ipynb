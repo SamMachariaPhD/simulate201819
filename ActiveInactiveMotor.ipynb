{
 "cells": [
  {
   "cell_type": "code",
   "execution_count": 170,
   "metadata": {},
   "outputs": [],
   "source": [
    "import numpy as np\n",
    "import pandas as pd\n",
    "import time"
   ]
  },
  {
   "cell_type": "code",
   "execution_count": 2,
   "metadata": {},
   "outputs": [],
   "source": [
    "intParticle = pd.read_csv('IntParticle37R1ATP2000MD2000.vtk', delim_whitespace=True, names=['x','y','z','nan','nan2'])"
   ]
  },
  {
   "cell_type": "code",
   "execution_count": 3,
   "metadata": {},
   "outputs": [],
   "source": [
    "motorno = intParticle.iloc[4:5,1:2].values"
   ]
  },
  {
   "cell_type": "code",
   "execution_count": 4,
   "metadata": {},
   "outputs": [
    {
     "data": {
      "text/plain": [
       "10"
      ]
     },
     "execution_count": 4,
     "metadata": {},
     "output_type": "execute_result"
    }
   ],
   "source": [
    "motorNo = int( np.int_(motorno) )\n",
    "motorNo"
   ]
  },
  {
   "cell_type": "code",
   "execution_count": 5,
   "metadata": {},
   "outputs": [],
   "source": [
    "intParticle = intParticle.drop(['nan','nan2'], axis=1)"
   ]
  },
  {
   "cell_type": "code",
   "execution_count": 6,
   "metadata": {},
   "outputs": [],
   "source": [
    "intParticle1 = intParticle.drop(intParticle.index[motorNo+5:intParticle.index[-1]+1])"
   ]
  },
  {
   "cell_type": "code",
   "execution_count": 7,
   "metadata": {},
   "outputs": [],
   "source": [
    "intParticle2 = intParticle1.drop(intParticle1.index[0:5])"
   ]
  },
  {
   "cell_type": "code",
   "execution_count": 8,
   "metadata": {},
   "outputs": [],
   "source": [
    "intParticle2 = intParticle2.values"
   ]
  },
  {
   "cell_type": "code",
   "execution_count": 9,
   "metadata": {},
   "outputs": [
    {
     "data": {
      "text/plain": [
       "array([['4.20193', '0.15416', '0.00000'],\n",
       "       ['4.17063', '0.15453', '0.00000'],\n",
       "       ['4.25012', '0.17021', '0.00000'],\n",
       "       ['4.62099', '0.34917', '0.00000'],\n",
       "       ['5.06098', '0.76535', '0.00000'],\n",
       "       ['4.94207', '0.63751', '0.00000'],\n",
       "       ['4.91644', '0.61877', '0.00000'],\n",
       "       ['4.93585', '0.59477', '0.00000'],\n",
       "       ['5.47755', '0.90763', '0.00000'],\n",
       "       ['5.62394', '0.92335', '0.00000']], dtype=object)"
      ]
     },
     "execution_count": 9,
     "metadata": {},
     "output_type": "execute_result"
    }
   ],
   "source": [
    "intParticle2"
   ]
  },
  {
   "cell_type": "code",
   "execution_count": 10,
   "metadata": {},
   "outputs": [
    {
     "name": "stderr",
     "output_type": "stream",
     "text": [
      "/home/nitta/anaconda3/lib/python3.6/site-packages/IPython/core/interactiveshell.py:3020: DtypeWarning: Columns (0,1,2,3) have mixed types. Specify dtype option on import or set low_memory=False.\n",
      "  interactivity=interactivity, compiler=compiler, result=result)\n"
     ]
    }
   ],
   "source": [
    "MotorSpecie1 = pd.read_csv('MotorSpecie1_37R1ATP2000MD2000.vtk', delim_whitespace=True, names=['x','y','z','nan','nan2'])"
   ]
  },
  {
   "cell_type": "code",
   "execution_count": 11,
   "metadata": {},
   "outputs": [
    {
     "data": {
      "text/plain": [
       "63039"
      ]
     },
     "execution_count": 11,
     "metadata": {},
     "output_type": "execute_result"
    }
   ],
   "source": [
    "Sp1no = MotorSpecie1.iloc[4:5,1:2].values\n",
    "Sp1No = int( np.int_(Sp1no) )\n",
    "Sp1No"
   ]
  },
  {
   "cell_type": "code",
   "execution_count": 12,
   "metadata": {},
   "outputs": [],
   "source": [
    "MotorSpecie1_ = MotorSpecie1.drop(['nan','nan2'], axis=1)\n",
    "MotorSpecie1_ = MotorSpecie1_.drop(MotorSpecie1_.index[Sp1No+5:MotorSpecie1_.index[-1]+1])\n",
    "MotorSpecie1_ = MotorSpecie1_.drop(MotorSpecie1_.index[0:5])"
   ]
  },
  {
   "cell_type": "code",
   "execution_count": 13,
   "metadata": {},
   "outputs": [],
   "source": [
    "MotorSpecie1_ = MotorSpecie1_.values"
   ]
  },
  {
   "cell_type": "code",
   "execution_count": 14,
   "metadata": {},
   "outputs": [
    {
     "data": {
      "text/plain": [
       "array([['3.25291', '-0.86166', '0.00000'],\n",
       "       ['1.53932', '0.64305', '0.00000'],\n",
       "       ['1.05113', '1.39817', '0.00000'],\n",
       "       ...,\n",
       "       ['6.47699', '2.63564', '0.00000'],\n",
       "       ['6.58331', '2.15061', '0.00000'],\n",
       "       ['6.77594', '1.10671', '0.00000']], dtype=object)"
      ]
     },
     "execution_count": 14,
     "metadata": {},
     "output_type": "execute_result"
    }
   ],
   "source": [
    "MotorSpecie1_"
   ]
  },
  {
   "cell_type": "code",
   "execution_count": 15,
   "metadata": {},
   "outputs": [
    {
     "ename": "ValueError",
     "evalue": "operands could not be broadcast together with shapes (63039,3) (10,3) ",
     "output_type": "error",
     "traceback": [
      "\u001b[0;31m---------------------------------------------------------------------------\u001b[0m",
      "\u001b[0;31mValueError\u001b[0m                                Traceback (most recent call last)",
      "\u001b[0;32m<ipython-input-15-20d97f57da9d>\u001b[0m in \u001b[0;36m<module>\u001b[0;34m\u001b[0m\n\u001b[0;32m----> 1\u001b[0;31m \u001b[0mnp\u001b[0m\u001b[0;34m.\u001b[0m\u001b[0msum\u001b[0m\u001b[0;34m(\u001b[0m \u001b[0mnp\u001b[0m\u001b[0;34m.\u001b[0m\u001b[0mall\u001b[0m\u001b[0;34m(\u001b[0m \u001b[0mnp\u001b[0m\u001b[0;34m.\u001b[0m\u001b[0mequal\u001b[0m\u001b[0;34m(\u001b[0m\u001b[0mMotorSpecie1_\u001b[0m\u001b[0;34m,\u001b[0m\u001b[0mintParticle2\u001b[0m\u001b[0;34m)\u001b[0m\u001b[0;34m,\u001b[0m \u001b[0maxis\u001b[0m\u001b[0;34m=\u001b[0m\u001b[0;36m1\u001b[0m\u001b[0;34m)\u001b[0m \u001b[0;34m)\u001b[0m\u001b[0;34m\u001b[0m\u001b[0m\n\u001b[0m",
      "\u001b[0;31mValueError\u001b[0m: operands could not be broadcast together with shapes (63039,3) (10,3) "
     ]
    }
   ],
   "source": [
    "np.sum( np.all( np.equal(MotorSpecie1_,intParticle2), axis=1) )"
   ]
  },
  {
   "cell_type": "code",
   "execution_count": 16,
   "metadata": {},
   "outputs": [],
   "source": [
    "sth = np.insert(intParticle2,2,np.nan, axis=0)"
   ]
  },
  {
   "cell_type": "code",
   "execution_count": 17,
   "metadata": {},
   "outputs": [
    {
     "data": {
      "text/plain": [
       "array([['4.20193', '0.15416', '0.00000'],\n",
       "       ['4.17063', '0.15453', '0.00000'],\n",
       "       [nan, nan, nan],\n",
       "       ['4.25012', '0.17021', '0.00000'],\n",
       "       ['4.62099', '0.34917', '0.00000'],\n",
       "       ['5.06098', '0.76535', '0.00000'],\n",
       "       ['4.94207', '0.63751', '0.00000'],\n",
       "       ['4.91644', '0.61877', '0.00000'],\n",
       "       ['4.93585', '0.59477', '0.00000'],\n",
       "       ['5.47755', '0.90763', '0.00000'],\n",
       "       ['5.62394', '0.92335', '0.00000']], dtype=object)"
      ]
     },
     "execution_count": 17,
     "metadata": {},
     "output_type": "execute_result"
    }
   ],
   "source": [
    "sth"
   ]
  },
  {
   "cell_type": "code",
   "execution_count": 18,
   "metadata": {},
   "outputs": [],
   "source": [
    "emp = np.empty((3,3))"
   ]
  },
  {
   "cell_type": "code",
   "execution_count": 19,
   "metadata": {},
   "outputs": [],
   "source": [
    "emp[:] = np.nan"
   ]
  },
  {
   "cell_type": "code",
   "execution_count": 20,
   "metadata": {},
   "outputs": [
    {
     "data": {
      "text/plain": [
       "array([[nan, nan, nan],\n",
       "       [nan, nan, nan],\n",
       "       [nan, nan, nan]])"
      ]
     },
     "execution_count": 20,
     "metadata": {},
     "output_type": "execute_result"
    }
   ],
   "source": [
    "emp"
   ]
  },
  {
   "cell_type": "code",
   "execution_count": 21,
   "metadata": {},
   "outputs": [
    {
     "data": {
      "text/plain": [
       "array([[6.91659104e-310, 6.91659104e-310, 6.91659104e-310],\n",
       "       [6.91659104e-310, 6.91659104e-310, 6.91659104e-310],\n",
       "       [6.91659104e-310, 6.91659104e-310, 6.91659104e-310]])"
      ]
     },
     "execution_count": 21,
     "metadata": {},
     "output_type": "execute_result"
    }
   ],
   "source": [
    "sm = np.empty((3,3))\n",
    "sm"
   ]
  },
  {
   "cell_type": "code",
   "execution_count": 22,
   "metadata": {},
   "outputs": [
    {
     "data": {
      "text/plain": [
       "array([[6.91659104e-310, 6.91659104e-310, 6.91659104e-310],\n",
       "       [6.91659104e-310, 6.91659104e-310, 6.91659104e-310],\n",
       "       [6.91659104e-310, 6.91659104e-310, 6.91659104e-310],\n",
       "       [            nan,             nan,             nan],\n",
       "       [            nan,             nan,             nan],\n",
       "       [            nan,             nan,             nan]])"
      ]
     },
     "execution_count": 22,
     "metadata": {},
     "output_type": "execute_result"
    }
   ],
   "source": [
    "sm2 = np.append(sm,emp,axis=0)\n",
    "sm2"
   ]
  },
  {
   "cell_type": "code",
   "execution_count": 23,
   "metadata": {},
   "outputs": [
    {
     "data": {
      "text/plain": [
       "(63039, 3)"
      ]
     },
     "execution_count": 23,
     "metadata": {},
     "output_type": "execute_result"
    }
   ],
   "source": [
    "MotorSpecie1_.shape"
   ]
  },
  {
   "cell_type": "code",
   "execution_count": 24,
   "metadata": {},
   "outputs": [
    {
     "data": {
      "text/plain": [
       "(10, 3)"
      ]
     },
     "execution_count": 24,
     "metadata": {},
     "output_type": "execute_result"
    }
   ],
   "source": [
    "intParticle2.shape"
   ]
  },
  {
   "cell_type": "code",
   "execution_count": 25,
   "metadata": {},
   "outputs": [],
   "source": [
    "shp = MotorSpecie1_.shape[0] - intParticle2.shape[0]"
   ]
  },
  {
   "cell_type": "code",
   "execution_count": 26,
   "metadata": {},
   "outputs": [],
   "source": [
    "nemp = np.empty((shp,3))\n",
    "nemp[:] = np.nan\n",
    "intParticle2_ = np.append(intParticle2,nemp,axis=0)"
   ]
  },
  {
   "cell_type": "code",
   "execution_count": 27,
   "metadata": {},
   "outputs": [
    {
     "data": {
      "text/plain": [
       "(63039, 3)"
      ]
     },
     "execution_count": 27,
     "metadata": {},
     "output_type": "execute_result"
    }
   ],
   "source": [
    "intParticle2_.shape"
   ]
  },
  {
   "cell_type": "code",
   "execution_count": 28,
   "metadata": {},
   "outputs": [
    {
     "data": {
      "text/plain": [
       "array([['4.20193', '0.15416', '0.00000'],\n",
       "       ['4.17063', '0.15453', '0.00000'],\n",
       "       ['4.25012', '0.17021', '0.00000'],\n",
       "       ...,\n",
       "       [nan, nan, nan],\n",
       "       [nan, nan, nan],\n",
       "       [nan, nan, nan]], dtype=object)"
      ]
     },
     "execution_count": 28,
     "metadata": {},
     "output_type": "execute_result"
    }
   ],
   "source": [
    "intParticle2_"
   ]
  },
  {
   "cell_type": "code",
   "execution_count": 29,
   "metadata": {},
   "outputs": [
    {
     "data": {
      "text/plain": [
       "array([['4.20193', '0.15416', '0.00000'],\n",
       "       ['4.17063', '0.15453', '0.00000'],\n",
       "       ['4.25012', '0.17021', '0.00000'],\n",
       "       ['4.62099', '0.34917', '0.00000'],\n",
       "       ['5.06098', '0.76535', '0.00000'],\n",
       "       ['4.94207', '0.63751', '0.00000'],\n",
       "       ['4.91644', '0.61877', '0.00000'],\n",
       "       ['4.93585', '0.59477', '0.00000'],\n",
       "       ['5.47755', '0.90763', '0.00000'],\n",
       "       ['5.62394', '0.92335', '0.00000']], dtype=object)"
      ]
     },
     "execution_count": 29,
     "metadata": {},
     "output_type": "execute_result"
    }
   ],
   "source": [
    "intParticle2"
   ]
  },
  {
   "cell_type": "code",
   "execution_count": 30,
   "metadata": {},
   "outputs": [],
   "source": [
    "chk = 1*np.equal(MotorSpecie1_,intParticle2_)"
   ]
  },
  {
   "cell_type": "code",
   "execution_count": 31,
   "metadata": {},
   "outputs": [
    {
     "data": {
      "text/plain": [
       "array([0, 0, 0, ..., 0, 0, 0])"
      ]
     },
     "execution_count": 31,
     "metadata": {},
     "output_type": "execute_result"
    }
   ],
   "source": [
    "chk[:,0]"
   ]
  },
  {
   "cell_type": "code",
   "execution_count": 32,
   "metadata": {},
   "outputs": [
    {
     "data": {
      "text/plain": [
       "0"
      ]
     },
     "execution_count": 32,
     "metadata": {},
     "output_type": "execute_result"
    }
   ],
   "source": [
    "np.sum(chk[:,0])"
   ]
  },
  {
   "cell_type": "code",
   "execution_count": 33,
   "metadata": {},
   "outputs": [
    {
     "data": {
      "text/plain": [
       "array(['4.20193', '0.15416', '0.00000'], dtype=object)"
      ]
     },
     "execution_count": 33,
     "metadata": {},
     "output_type": "execute_result"
    }
   ],
   "source": [
    "MotorSpecie1_[187]"
   ]
  },
  {
   "cell_type": "code",
   "execution_count": 34,
   "metadata": {},
   "outputs": [
    {
     "data": {
      "text/plain": [
       "array(['4.20193', '0.15416', '0.00000'], dtype=object)"
      ]
     },
     "execution_count": 34,
     "metadata": {},
     "output_type": "execute_result"
    }
   ],
   "source": [
    "intParticle2_[0]"
   ]
  },
  {
   "cell_type": "code",
   "execution_count": 35,
   "metadata": {},
   "outputs": [
    {
     "data": {
      "text/plain": [
       "array([ True,  True,  True])"
      ]
     },
     "execution_count": 35,
     "metadata": {},
     "output_type": "execute_result"
    }
   ],
   "source": [
    "np.equal(MotorSpecie1_[187],intParticle2_[0])"
   ]
  },
  {
   "cell_type": "code",
   "execution_count": 36,
   "metadata": {},
   "outputs": [
    {
     "data": {
      "text/plain": [
       "array([0, 0, 0])"
      ]
     },
     "execution_count": 36,
     "metadata": {},
     "output_type": "execute_result"
    }
   ],
   "source": [
    "chk[187]"
   ]
  },
  {
   "cell_type": "code",
   "execution_count": 37,
   "metadata": {},
   "outputs": [
    {
     "data": {
      "text/plain": [
       "(10, 3)"
      ]
     },
     "execution_count": 37,
     "metadata": {},
     "output_type": "execute_result"
    }
   ],
   "source": [
    "intParticle2.shape"
   ]
  },
  {
   "cell_type": "code",
   "execution_count": 38,
   "metadata": {},
   "outputs": [
    {
     "data": {
      "text/plain": [
       "array(['5.62394', '0.92335', '0.00000'], dtype=object)"
      ]
     },
     "execution_count": 38,
     "metadata": {},
     "output_type": "execute_result"
    }
   ],
   "source": [
    "intParticle2[motorNo-1]"
   ]
  },
  {
   "cell_type": "code",
   "execution_count": 39,
   "metadata": {},
   "outputs": [
    {
     "name": "stdout",
     "output_type": "stream",
     "text": [
      "all rows equal\n"
     ]
    }
   ],
   "source": [
    "if (sum(1*np.equal(MotorSpecie1_[187],intParticle2_[0])) == 3):\n",
    "    print('all rows equal')"
   ]
  },
  {
   "cell_type": "code",
   "execution_count": 40,
   "metadata": {},
   "outputs": [
    {
     "data": {
      "text/plain": [
       "10"
      ]
     },
     "execution_count": 40,
     "metadata": {},
     "output_type": "execute_result"
    }
   ],
   "source": [
    "smt = 0; count=0\n",
    "while smt < motorNo:\n",
    "    for i in range(0,MotorSpecie1_.shape[0]):\n",
    "        if(np.sum(1*np.equal(MotorSpecie1_[i],intParticle2_[smt])) == 3):\n",
    "            count = count+1\n",
    "    smt = smt+1\n",
    "count"
   ]
  },
  {
   "cell_type": "markdown",
   "metadata": {},
   "source": [
    "## Method 1"
   ]
  },
  {
   "cell_type": "code",
   "execution_count": 172,
   "metadata": {},
   "outputs": [
    {
     "name": "stdout",
     "output_type": "stream",
     "text": [
      "active motors = 10 zombie motors = 0 time =  5.142730712890625\n"
     ]
    }
   ],
   "source": [
    "intParticle = pd.read_csv('IntParticle37R1ATP2000MD2000.vtk', delim_whitespace=True, names=['x','y','z','nan','nan2'])\n",
    "motorno = intParticle.iloc[4:5,1:2].values\n",
    "motorNo = int( np.int_(motorno) )\n",
    "\n",
    "intParticle = intParticle.drop(['nan','nan2'], axis=1)\n",
    "intParticl = intParticle.drop(intParticle.index[motorNo+5:intParticle.index[-1]+1])\n",
    "intPartic = intParticl.drop(intParticl.index[0:5])\n",
    "intPartic = intPartic.values\n",
    "\n",
    "MotorSpecie1 = pd.read_csv('MotorSpecie1_37R1ATP2000MD2000.vtk', delim_whitespace=True, names=['x','y','z','nan','nan2'])\n",
    "Sp1no = MotorSpecie1.iloc[4:5,1:2].values\n",
    "Sp1No = int( np.int_(Sp1no) )\n",
    "\n",
    "MotorSpecie1_ = MotorSpecie1.drop(['nan','nan2'], axis=1)\n",
    "MotorSpecie1_ = MotorSpecie1_.drop(MotorSpecie1_.index[Sp1No+5:MotorSpecie1_.index[-1]+1])\n",
    "MotorSpecie1_ = MotorSpecie1_.drop(MotorSpecie1_.index[0:5])\n",
    "MotorSpecie1_ = MotorSpecie1_.values\n",
    "\n",
    "activeM=0\n",
    "tic = time.time()\n",
    "for k in range(0, motorNo):\n",
    "    for i in range(0,MotorSpecie1_.shape[0]):\n",
    "        if(np.sum(1*np.equal(MotorSpecie1_[i],intPartic[k])) == 3):\n",
    "            activeM = activeM+1\n",
    "toc = time.time()\n",
    "print(\"active motors =\", activeM, \"zombie motors =\", motorNo-activeM, \"time = \", toc-tic)"
   ]
  },
  {
   "cell_type": "code",
   "execution_count": 173,
   "metadata": {},
   "outputs": [
    {
     "name": "stdout",
     "output_type": "stream",
     "text": [
      "active motors = 10 zombie motors = 0 time =  4.962080001831055\n"
     ]
    }
   ],
   "source": [
    "intParticle = pd.read_csv('IntParticle37R1ATP2000MD2000.vtk', delim_whitespace=True, names=['x','y','z','nan','nan2'])\n",
    "motorno = intParticle.iloc[4:5,1:2].values\n",
    "motorNo = int( np.int_(motorno) )\n",
    "\n",
    "intParticle = intParticle.drop(['nan','nan2'], axis=1)\n",
    "intParticl = intParticle.drop(intParticle.index[motorNo+5:intParticle.index[-1]+1])\n",
    "intPartic = intParticl.drop(intParticl.index[0:5])\n",
    "intPartic = intPartic.values\n",
    "\n",
    "MotorSpecie1 = pd.read_csv('MotorSpecie1_37R1ATP2000MD2000.vtk', delim_whitespace=True, names=['x','y','z','nan','nan2'])\n",
    "Sp1no = MotorSpecie1.iloc[4:5,1:2].values\n",
    "Sp1No = int( np.int_(Sp1no) )\n",
    "\n",
    "MotorSpecie1_ = MotorSpecie1.drop(['nan','nan2'], axis=1)\n",
    "MotorSpecie1_ = MotorSpecie1_.drop(MotorSpecie1_.index[Sp1No+5:MotorSpecie1_.index[-1]+1])\n",
    "MotorSpecie1_ = MotorSpecie1_.drop(MotorSpecie1_.index[0:5])\n",
    "MotorSpecie1_ = MotorSpecie1_.values\n",
    "\n",
    "activeM=0\n",
    "msp1 = MotorSpecie1_.shape[0]\n",
    "tic = time.time()\n",
    "for k in range(0, motorNo):\n",
    "    for i in range(0,msp1):\n",
    "        if(np.sum(1*np.equal(MotorSpecie1_[i],intPartic[k])) == 3):\n",
    "            activeM = activeM+1\n",
    "toc = time.time()\n",
    "print(\"active motors =\", activeM, \"zombie motors =\", motorNo-activeM, \"time = \", toc-tic)"
   ]
  },
  {
   "cell_type": "code",
   "execution_count": 42,
   "metadata": {},
   "outputs": [
    {
     "data": {
      "text/plain": [
       "(63039, 3)"
      ]
     },
     "execution_count": 42,
     "metadata": {},
     "output_type": "execute_result"
    }
   ],
   "source": [
    "MotorSpecie1_.shape"
   ]
  },
  {
   "cell_type": "code",
   "execution_count": 43,
   "metadata": {},
   "outputs": [
    {
     "data": {
      "text/plain": [
       "39.34"
      ]
     },
     "execution_count": 43,
     "metadata": {},
     "output_type": "execute_result"
    }
   ],
   "source": [
    "activeATP50 = np.loadtxt('Abm_no673ATP50R0.3.csv')\n",
    "activeATP50.mean()"
   ]
  },
  {
   "cell_type": "code",
   "execution_count": 44,
   "metadata": {},
   "outputs": [
    {
     "data": {
      "text/plain": [
       "6.444563600430986"
      ]
     },
     "execution_count": 44,
     "metadata": {},
     "output_type": "execute_result"
    }
   ],
   "source": [
    "activeATP50.std()"
   ]
  },
  {
   "cell_type": "code",
   "execution_count": 45,
   "metadata": {},
   "outputs": [
    {
     "data": {
      "text/plain": [
       "25.462"
      ]
     },
     "execution_count": 45,
     "metadata": {},
     "output_type": "execute_result"
    }
   ],
   "source": [
    "activeATP100 = np.loadtxt('Abm_no673ATP100R0.3.csv')\n",
    "activeATP100.mean()"
   ]
  },
  {
   "cell_type": "code",
   "execution_count": 46,
   "metadata": {},
   "outputs": [
    {
     "data": {
      "text/plain": [
       "4.931182008403259"
      ]
     },
     "execution_count": 46,
     "metadata": {},
     "output_type": "execute_result"
    }
   ],
   "source": [
    "activeATP100.std()"
   ]
  },
  {
   "cell_type": "code",
   "execution_count": 47,
   "metadata": {},
   "outputs": [
    {
     "data": {
      "text/plain": [
       "16.798"
      ]
     },
     "execution_count": 47,
     "metadata": {},
     "output_type": "execute_result"
    }
   ],
   "source": [
    "activeATP200 = np.loadtxt('Abm_no673ATP200R0.3.csv')\n",
    "activeATP200.mean()"
   ]
  },
  {
   "cell_type": "code",
   "execution_count": 48,
   "metadata": {},
   "outputs": [
    {
     "data": {
      "text/plain": [
       "4.712238958287238"
      ]
     },
     "execution_count": 48,
     "metadata": {},
     "output_type": "execute_result"
    }
   ],
   "source": [
    "activeATP200.std()"
   ]
  },
  {
   "cell_type": "code",
   "execution_count": 76,
   "metadata": {},
   "outputs": [
    {
     "data": {
      "text/plain": [
       "10"
      ]
     },
     "execution_count": 76,
     "metadata": {},
     "output_type": "execute_result"
    }
   ],
   "source": [
    "ary = np.where(MotorSpecie1_ == intParticle2_)\n",
    "ary[0].shape[0]"
   ]
  },
  {
   "cell_type": "code",
   "execution_count": 80,
   "metadata": {},
   "outputs": [
    {
     "data": {
      "text/plain": [
       "array([['3.25291', '-0.86166', '0.00000'],\n",
       "       ['1.53932', '0.64305', '0.00000'],\n",
       "       ['1.05113', '1.39817', '0.00000'],\n",
       "       ...,\n",
       "       ['6.47699', '2.63564', '0.00000'],\n",
       "       ['6.58331', '2.15061', '0.00000'],\n",
       "       ['6.77594', '1.10671', '0.00000']], dtype=object)"
      ]
     },
     "execution_count": 80,
     "metadata": {},
     "output_type": "execute_result"
    }
   ],
   "source": [
    "MotorSpecie1_"
   ]
  },
  {
   "cell_type": "code",
   "execution_count": 81,
   "metadata": {},
   "outputs": [
    {
     "data": {
      "text/plain": [
       "array([['4.20193', '0.15416', '0.00000'],\n",
       "       ['4.17063', '0.15453', '0.00000'],\n",
       "       ['4.25012', '0.17021', '0.00000'],\n",
       "       ...,\n",
       "       [nan, nan, nan],\n",
       "       [nan, nan, nan],\n",
       "       [nan, nan, nan]], dtype=object)"
      ]
     },
     "execution_count": 81,
     "metadata": {},
     "output_type": "execute_result"
    }
   ],
   "source": [
    "intParticle2_"
   ]
  },
  {
   "cell_type": "code",
   "execution_count": 139,
   "metadata": {},
   "outputs": [
    {
     "data": {
      "text/plain": [
       "(array([], dtype=int64), array([], dtype=int64))"
      ]
     },
     "execution_count": 139,
     "metadata": {},
     "output_type": "execute_result"
    }
   ],
   "source": [
    "a = np.array([[1.56,2.56],[2.42,3.42],[4,5]])\n",
    "b = np.array([[2.42,3.42],[4.1,3],[7.51,1]])\n",
    "np.where(a == b)"
   ]
  },
  {
   "cell_type": "code",
   "execution_count": 140,
   "metadata": {},
   "outputs": [
    {
     "data": {
      "text/plain": [
       "array([False,  True, False])"
      ]
     },
     "execution_count": 140,
     "metadata": {},
     "output_type": "execute_result"
    }
   ],
   "source": [
    "np.array([item in b for item in a])"
   ]
  },
  {
   "cell_type": "code",
   "execution_count": 141,
   "metadata": {},
   "outputs": [
    {
     "data": {
      "text/plain": [
       "array([False, False,  True,  True, False, False])"
      ]
     },
     "execution_count": 141,
     "metadata": {},
     "output_type": "execute_result"
    }
   ],
   "source": [
    "np.in1d(a,b)"
   ]
  },
  {
   "cell_type": "code",
   "execution_count": 133,
   "metadata": {},
   "outputs": [
    {
     "data": {
      "text/plain": [
       "array([1.56, 2.56, 2.42, 3.42, 4.  , 5.  ])"
      ]
     },
     "execution_count": 133,
     "metadata": {},
     "output_type": "execute_result"
    }
   ],
   "source": [
    "a = a.flatten()\n",
    "a"
   ]
  },
  {
   "cell_type": "code",
   "execution_count": 134,
   "metadata": {},
   "outputs": [
    {
     "data": {
      "text/plain": [
       "array([2.42, 3.42, 4.1 , 3.  , 7.51, 1.  ])"
      ]
     },
     "execution_count": 134,
     "metadata": {},
     "output_type": "execute_result"
    }
   ],
   "source": [
    "b = b.flatten()\n",
    "b"
   ]
  },
  {
   "cell_type": "code",
   "execution_count": 135,
   "metadata": {},
   "outputs": [
    {
     "data": {
      "text/plain": [
       "(array([], dtype=int64),)"
      ]
     },
     "execution_count": 135,
     "metadata": {},
     "output_type": "execute_result"
    }
   ],
   "source": [
    "np.where(a[:] == b[:])"
   ]
  },
  {
   "cell_type": "code",
   "execution_count": 136,
   "metadata": {},
   "outputs": [
    {
     "data": {
      "text/plain": [
       "array([False, False,  True,  True, False, False])"
      ]
     },
     "execution_count": 136,
     "metadata": {},
     "output_type": "execute_result"
    }
   ],
   "source": [
    "np.in1d(a,b)"
   ]
  },
  {
   "cell_type": "code",
   "execution_count": 88,
   "metadata": {},
   "outputs": [
    {
     "data": {
      "text/plain": [
       "1"
      ]
     },
     "execution_count": 88,
     "metadata": {},
     "output_type": "execute_result"
    }
   ],
   "source": [
    "activeMx = 0\n",
    "for l in range(0, 1):\n",
    "    for m in range(0,a.shape[0]):\n",
    "        if(np.sum(1*np.equal(a[m],b[l])) == 3):\n",
    "            activeMx = activeMx+1\n",
    "activeMx"
   ]
  },
  {
   "cell_type": "code",
   "execution_count": null,
   "metadata": {},
   "outputs": [],
   "source": []
  },
  {
   "cell_type": "markdown",
   "metadata": {},
   "source": [
    "## Method 2"
   ]
  },
  {
   "cell_type": "code",
   "execution_count": 59,
   "metadata": {},
   "outputs": [
    {
     "data": {
      "text/plain": [
       "10"
      ]
     },
     "execution_count": 59,
     "metadata": {},
     "output_type": "execute_result"
    }
   ],
   "source": [
    "intParticle = pd.read_csv('IntParticle37R1ATP2000MD2000.vtk', delim_whitespace=True, names=['x','y','z','nan','nan2'])\n",
    "motorno = intParticle.iloc[4:5,1:2].values\n",
    "motorNo = int( np.int_(motorno) )\n",
    "\n",
    "intParticle = intParticle.drop(['nan','nan2'], axis=1)\n",
    "intParticl = intParticle.drop(intParticle.index[motorNo+5:intParticle.index[-1]+1])\n",
    "intPartic = intParticl.drop(intParticl.index[0:5])\n",
    "intPartic = intPartic.values\n",
    "\n",
    "MotorSpecie1 = pd.read_csv('MotorSpecie1_37R1ATP2000MD2000.vtk', delim_whitespace=True, names=['x','y','z','nan','nan2'])\n",
    "Sp1no = MotorSpecie1.iloc[4:5,1:2].values\n",
    "Sp1No = int( np.int_(Sp1no) )\n",
    "\n",
    "MotorSpecie1_ = MotorSpecie1.drop(['nan','nan2'], axis=1)\n",
    "MotorSpecie1_ = MotorSpecie1_.drop(MotorSpecie1_.index[Sp1No+5:MotorSpecie1_.index[-1]+1])\n",
    "MotorSpecie1_ = MotorSpecie1_.drop(MotorSpecie1_.index[0:5])\n",
    "MotorSpecie1_ = MotorSpecie1_.values\n",
    "\n",
    "shp = MotorSpecie1_.shape[0] - intParticle2.shape[0]\n",
    "nemp = np.empty((shp,3))\n",
    "nemp[:] = np.nan\n",
    "intParticle2_ = np.append(intParticle2,nemp,axis=0)\n",
    "\n",
    "ary = np.where(MotorSpecie1_ == intParticle2_)\n",
    "activeM = ary[0].shape[0]\n",
    "\n",
    "activeM"
   ]
  },
  {
   "cell_type": "code",
   "execution_count": 89,
   "metadata": {},
   "outputs": [
    {
     "data": {
      "text/plain": [
       "(array([0, 1, 2, 3, 4, 5, 6, 7, 8, 9]), array([2, 2, 2, 2, 2, 2, 2, 2, 2, 2]))"
      ]
     },
     "execution_count": 89,
     "metadata": {},
     "output_type": "execute_result"
    }
   ],
   "source": [
    "np.where(MotorSpecie1_ == intParticle2_)"
   ]
  },
  {
   "cell_type": "code",
   "execution_count": 157,
   "metadata": {},
   "outputs": [
    {
     "data": {
      "text/plain": [
       "array([False, False, False, ..., False, False, False])"
      ]
     },
     "execution_count": 157,
     "metadata": {},
     "output_type": "execute_result"
    }
   ],
   "source": [
    "np.in1d(MotorSpecie1_[...,:-1].flatten(),intParticle2_[...,:-1].flatten())"
   ]
  },
  {
   "cell_type": "code",
   "execution_count": 150,
   "metadata": {},
   "outputs": [
    {
     "data": {
      "text/plain": [
       "array(['3.25291', '-0.86166', '0.00000', ..., '6.77594', '1.10671',\n",
       "       '0.00000'], dtype=object)"
      ]
     },
     "execution_count": 150,
     "metadata": {},
     "output_type": "execute_result"
    }
   ],
   "source": [
    "MotorSpecie1_.flatten()"
   ]
  },
  {
   "cell_type": "code",
   "execution_count": 156,
   "metadata": {},
   "outputs": [
    {
     "data": {
      "text/plain": [
       "array(['3.25291', '-0.86166', '1.53932', ..., '2.15061', '6.77594',\n",
       "       '1.10671'], dtype=object)"
      ]
     },
     "execution_count": 156,
     "metadata": {},
     "output_type": "execute_result"
    }
   ],
   "source": [
    "MotorSpecie1_[...,:-1].flatten()"
   ]
  },
  {
   "cell_type": "code",
   "execution_count": 159,
   "metadata": {},
   "outputs": [],
   "source": [
    "arA = np.random.rand(3,2)\n",
    "arB = np.random.rand(5,2)"
   ]
  },
  {
   "cell_type": "code",
   "execution_count": 160,
   "metadata": {},
   "outputs": [
    {
     "data": {
      "text/plain": [
       "array([[0.77848001, 0.86459425],\n",
       "       [0.90391294, 0.55406889],\n",
       "       [0.17595285, 0.6679089 ]])"
      ]
     },
     "execution_count": 160,
     "metadata": {},
     "output_type": "execute_result"
    }
   ],
   "source": [
    "arA"
   ]
  },
  {
   "cell_type": "code",
   "execution_count": 161,
   "metadata": {},
   "outputs": [
    {
     "data": {
      "text/plain": [
       "array([[0.33737657, 0.03125244],\n",
       "       [0.14658922, 0.50232964],\n",
       "       [0.58953867, 0.48625264],\n",
       "       [0.08261968, 0.52968782],\n",
       "       [0.66452622, 0.67522755]])"
      ]
     },
     "execution_count": 161,
     "metadata": {},
     "output_type": "execute_result"
    }
   ],
   "source": [
    "arB"
   ]
  },
  {
   "cell_type": "code",
   "execution_count": 175,
   "metadata": {},
   "outputs": [
    {
     "data": {
      "text/plain": [
       "array([[0.77848001, 0.86459425],\n",
       "       [1.23456789, 3.12345678],\n",
       "       [0.90391294, 0.55406889],\n",
       "       [0.17595285, 0.6679089 ]])"
      ]
     },
     "execution_count": 175,
     "metadata": {},
     "output_type": "execute_result"
    }
   ],
   "source": [
    "arrA = np.insert(arA,1,[1.23456789,3.12345678],axis=0)\n",
    "arrA"
   ]
  },
  {
   "cell_type": "code",
   "execution_count": 176,
   "metadata": {},
   "outputs": [
    {
     "data": {
      "text/plain": [
       "array([[0.33737657, 0.03125244],\n",
       "       [0.14658922, 0.50232964],\n",
       "       [0.58953867, 0.48625264],\n",
       "       [1.23456789, 3.12345678],\n",
       "       [0.08261968, 0.52968782],\n",
       "       [0.66452622, 0.67522755]])"
      ]
     },
     "execution_count": 176,
     "metadata": {},
     "output_type": "execute_result"
    }
   ],
   "source": [
    "arrB = np.insert(arB,3,[1.23456789,3.12345678],axis=0)\n",
    "arrB"
   ]
  },
  {
   "cell_type": "code",
   "execution_count": 168,
   "metadata": {},
   "outputs": [
    {
     "data": {
      "text/plain": [
       "6"
      ]
     },
     "execution_count": 168,
     "metadata": {},
     "output_type": "execute_result"
    }
   ],
   "source": [
    "arrB.shape[0]"
   ]
  },
  {
   "cell_type": "code",
   "execution_count": 180,
   "metadata": {},
   "outputs": [
    {
     "name": "stdout",
     "output_type": "stream",
     "text": [
      "1\n"
     ]
    }
   ],
   "source": [
    "count = 0\n",
    "Ashp = arrA.shape[0]\n",
    "Bshp = arrB.shape[0]\n",
    "for i in range(0, Ashp):\n",
    "    for j in range(0,Bshp):\n",
    "        if(np.sum(1*np.equal(arrB[j],arrA[i])) == 2):\n",
    "            count = count+1\n",
    "print(count)"
   ]
  },
  {
   "cell_type": "code",
   "execution_count": null,
   "metadata": {},
   "outputs": [],
   "source": []
  },
  {
   "cell_type": "code",
   "execution_count": 184,
   "metadata": {},
   "outputs": [
    {
     "data": {
      "text/plain": [
       "2"
      ]
     },
     "execution_count": 184,
     "metadata": {},
     "output_type": "execute_result"
    }
   ],
   "source": [
    "arrB.ndim"
   ]
  },
  {
   "cell_type": "code",
   "execution_count": 183,
   "metadata": {},
   "outputs": [
    {
     "data": {
      "text/plain": [
       "8"
      ]
     },
     "execution_count": 183,
     "metadata": {},
     "output_type": "execute_result"
    }
   ],
   "source": [
    "arrA.size"
   ]
  },
  {
   "cell_type": "code",
   "execution_count": 195,
   "metadata": {},
   "outputs": [
    {
     "name": "stdout",
     "output_type": "stream",
     "text": [
      "1.0\n"
     ]
    }
   ],
   "source": [
    "compare = np.sum(1*np.isin(arrA,arrB))\n",
    "if compare%2 == 0: count = compare/2\n",
    "print(count)"
   ]
  },
  {
   "cell_type": "code",
   "execution_count": 186,
   "metadata": {},
   "outputs": [
    {
     "name": "stdout",
     "output_type": "stream",
     "text": [
      "active motors = 15.0 zombie motors = -5.0 time =  618.0152537822723\n"
     ]
    }
   ],
   "source": [
    "tic = time.time()\n",
    "eql = np.sum(1*np.isin(intParticle2_,MotorSpecie1_))\n",
    "if eql%2 == 0: activeM = eql/2\n",
    "toc = time.time()\n",
    "print(\"active motors =\", activeM, \"zombie motors =\", motorNo-activeM, \"time = \", toc-tic)"
   ]
  },
  {
   "cell_type": "code",
   "execution_count": 187,
   "metadata": {},
   "outputs": [],
   "source": [
    "tic = time.time()\n",
    "1*np.isin(intParticle2_,MotorSpecie1_)\n",
    "toc = time.time()"
   ]
  },
  {
   "cell_type": "code",
   "execution_count": 188,
   "metadata": {},
   "outputs": [
    {
     "data": {
      "text/plain": [
       "639.586786031723"
      ]
     },
     "execution_count": 188,
     "metadata": {},
     "output_type": "execute_result"
    }
   ],
   "source": [
    "toc-tic"
   ]
  },
  {
   "cell_type": "code",
   "execution_count": 189,
   "metadata": {},
   "outputs": [
    {
     "data": {
      "text/plain": [
       "120.0"
      ]
     },
     "execution_count": 189,
     "metadata": {},
     "output_type": "execute_result"
    }
   ],
   "source": [
    "600/5"
   ]
  },
  {
   "cell_type": "code",
   "execution_count": 199,
   "metadata": {},
   "outputs": [
    {
     "name": "stderr",
     "output_type": "stream",
     "text": [
      "/home/nitta/anaconda3/lib/python3.6/site-packages/ipykernel_launcher.py:1: DeprecationWarning: elementwise == comparison failed; this will raise an error in the future.\n",
      "  \"\"\"Entry point for launching an IPython kernel.\n"
     ]
    },
    {
     "ename": "AttributeError",
     "evalue": "'bool' object has no attribute 'all'",
     "output_type": "error",
     "traceback": [
      "\u001b[0;31m---------------------------------------------------------------------------\u001b[0m",
      "\u001b[0;31mAttributeError\u001b[0m                            Traceback (most recent call last)",
      "\u001b[0;32m<ipython-input-199-87828d1ae524>\u001b[0m in \u001b[0;36m<module>\u001b[0;34m\u001b[0m\n\u001b[0;32m----> 1\u001b[0;31m \u001b[0;34m(\u001b[0m\u001b[0marrA\u001b[0m \u001b[0;34m==\u001b[0m \u001b[0marrB\u001b[0m\u001b[0;34m)\u001b[0m\u001b[0;34m.\u001b[0m\u001b[0mall\u001b[0m\u001b[0;34m(\u001b[0m\u001b[0;34m)\u001b[0m\u001b[0;34m\u001b[0m\u001b[0m\n\u001b[0m",
      "\u001b[0;31mAttributeError\u001b[0m: 'bool' object has no attribute 'all'"
     ]
    }
   ],
   "source": [
    "(arrA == arrB).all()"
   ]
  },
  {
   "cell_type": "code",
   "execution_count": 198,
   "metadata": {},
   "outputs": [
    {
     "data": {
      "text/plain": [
       "False"
      ]
     },
     "execution_count": 198,
     "metadata": {},
     "output_type": "execute_result"
    }
   ],
   "source": [
    "np.array_equiv(arrA,arrB)"
   ]
  },
  {
   "cell_type": "markdown",
   "metadata": {},
   "source": [
    "## Method 3"
   ]
  },
  {
   "cell_type": "code",
   "execution_count": 200,
   "metadata": {},
   "outputs": [],
   "source": [
    "import numpy_indexed as npi"
   ]
  },
  {
   "cell_type": "code",
   "execution_count": 218,
   "metadata": {},
   "outputs": [
    {
     "data": {
      "text/plain": [
       "10"
      ]
     },
     "execution_count": 218,
     "metadata": {},
     "output_type": "execute_result"
    }
   ],
   "source": [
    "intParticle = pd.read_csv('IntParticle37R1ATP2000MD2000.vtk', delim_whitespace=True, names=['x','y','z','nan','nan2'])\n",
    "motorno = intParticle.iloc[4:5,1:2].values\n",
    "motorNo = int( np.int_(motorno) )\n",
    "\n",
    "intParticle = intParticle.drop(['z','nan','nan2'], axis=1)\n",
    "intParticl = intParticle.drop(intParticle.index[motorNo+5:intParticle.index[-1]+1])\n",
    "intPartic = intParticl.drop(intParticl.index[0:5])\n",
    "intPartic = intPartic.values\n",
    "bindingTotal = intPartic.astype(float)\n",
    "\n",
    "MotorSpecie1 = pd.read_csv('MotorSpecie1_37R1ATP2000MD2000.vtk', delim_whitespace=True, names=['x','y','z','nan','nan2'])\n",
    "Sp1no = MotorSpecie1.iloc[4:5,1:2].values\n",
    "Sp1No = int( np.int_(Sp1no) )\n",
    "\n",
    "MotorSpecie1_ = MotorSpecie1.drop(['z','nan','nan2'], axis=1)\n",
    "MotorSpecie1_ = MotorSpecie1_.drop(MotorSpecie1_.index[Sp1No+5:MotorSpecie1_.index[-1]+1])\n",
    "MotorSpecie1_ = MotorSpecie1_.drop(MotorSpecie1_.index[0:5])\n",
    "MotorSpecie1_ = MotorSpecie1_.values\n",
    "activeSpecie = MotorSpecie1_.astype(float)\n",
    "\n",
    "active_M = np.sum(1*npi.contains(bindingTotal,activeSpecie))\n",
    "active_M"
   ]
  },
  {
   "cell_type": "code",
   "execution_count": 215,
   "metadata": {},
   "outputs": [
    {
     "data": {
      "text/plain": [
       "array([['4.20193', '0.15416'],\n",
       "       ['4.17063', '0.15453'],\n",
       "       ['4.25012', '0.17021'],\n",
       "       ['4.62099', '0.34917'],\n",
       "       ['5.06098', '0.76535'],\n",
       "       ['4.94207', '0.63751'],\n",
       "       ['4.91644', '0.61877'],\n",
       "       ['4.93585', '0.59477'],\n",
       "       ['5.47755', '0.90763'],\n",
       "       ['5.62394', '0.92335']], dtype=object)"
      ]
     },
     "execution_count": 215,
     "metadata": {},
     "output_type": "execute_result"
    }
   ],
   "source": [
    "intPartic.astype(object)"
   ]
  },
  {
   "cell_type": "code",
   "execution_count": 210,
   "metadata": {},
   "outputs": [
    {
     "data": {
      "text/plain": [
       "array([['3.25291', '-0.86166'],\n",
       "       ['1.53932', '0.64305'],\n",
       "       ['1.05113', '1.39817'],\n",
       "       ...,\n",
       "       ['6.47699', '2.63564'],\n",
       "       ['6.58331', '2.15061'],\n",
       "       ['6.77594', '1.10671']], dtype=object)"
      ]
     },
     "execution_count": 210,
     "metadata": {},
     "output_type": "execute_result"
    }
   ],
   "source": [
    "MotorSpecie1_"
   ]
  },
  {
   "cell_type": "code",
   "execution_count": 214,
   "metadata": {},
   "outputs": [
    {
     "data": {
      "text/plain": [
       "array([[0.08845483, 0.1218009 ],\n",
       "       [0.97101758, 0.89123981],\n",
       "       [0.88619563, 0.67123958]])"
      ]
     },
     "execution_count": 214,
     "metadata": {},
     "output_type": "execute_result"
    }
   ],
   "source": [
    "np.random.rand(3,2)"
   ]
  },
  {
   "cell_type": "code",
   "execution_count": 224,
   "metadata": {},
   "outputs": [
    {
     "name": "stdout",
     "output_type": "stream",
     "text": [
      "File 1 took 3 sec.\n"
     ]
    }
   ],
   "source": [
    "tym = 3; task = 1\n",
    "print(\"File %s took %d sec.\"%(task, tym))"
   ]
  },
  {
   "cell_type": "code",
   "execution_count": 225,
   "metadata": {},
   "outputs": [],
   "source": [
    "#Active-Inactive motor analysis continued in the previous notebook 'ATPvel'"
   ]
  },
  {
   "cell_type": "code",
   "execution_count": null,
   "metadata": {},
   "outputs": [],
   "source": []
  }
 ],
 "metadata": {
  "kernelspec": {
   "display_name": "Python 3",
   "language": "python",
   "name": "python3"
  },
  "language_info": {
   "codemirror_mode": {
    "name": "ipython",
    "version": 3
   },
   "file_extension": ".py",
   "mimetype": "text/x-python",
   "name": "python",
   "nbconvert_exporter": "python",
   "pygments_lexer": "ipython3",
   "version": "3.6.7"
  }
 },
 "nbformat": 4,
 "nbformat_minor": 2
}
