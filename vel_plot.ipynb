{
 "cells": [
  {
   "cell_type": "code",
   "execution_count": 2,
   "metadata": {},
   "outputs": [
    {
     "name": "stderr",
     "output_type": "stream",
     "text": [
      "/home/nitta/.local/lib/python3.5/site-packages/ipykernel_launcher.py:3: UserWarning: matplotlib.pyplot as already been imported, this call will have no effect.\n",
      "  This is separate from the ipykernel package so we can avoid doing imports until\n"
     ]
    }
   ],
   "source": [
    "# prepared by Sam. feel free to consult (sirmaxford@gmail.com).\n",
    "import fileinput, sys, shutil, os, time, socket, subprocess\n",
    "import matplotlib; matplotlib.use('Agg') #set matplotlib to not use the Xwindows backend\n",
    "import matplotlib.pyplot as plt; import pandas as pd; import numpy as np\n",
    "%matplotlib inline\n",
    "font = {'family': 'serif',\n",
    "        'color':  'darkred',\n",
    "        'weight': 'normal',\n",
    "        'size': 14,\n",
    "        }"
   ]
  },
  {
   "cell_type": "code",
   "execution_count": 13,
   "metadata": {},
   "outputs": [],
   "source": [
    "columns = ['r', 'b', 'atp', 'md', 'v_av', 'v_sd']\n",
    "df = pd.read_csv('vel_changes.csv', names=columns)"
   ]
  },
  {
   "cell_type": "code",
   "execution_count": 23,
   "metadata": {},
   "outputs": [
    {
     "data": {
      "text/html": [
       "<div>\n",
       "<style scoped>\n",
       "    .dataframe tbody tr th:only-of-type {\n",
       "        vertical-align: middle;\n",
       "    }\n",
       "\n",
       "    .dataframe tbody tr th {\n",
       "        vertical-align: top;\n",
       "    }\n",
       "\n",
       "    .dataframe thead th {\n",
       "        text-align: right;\n",
       "    }\n",
       "</style>\n",
       "<table border=\"1\" class=\"dataframe\">\n",
       "  <thead>\n",
       "    <tr style=\"text-align: right;\">\n",
       "      <th></th>\n",
       "      <th>r</th>\n",
       "      <th>b</th>\n",
       "      <th>atp</th>\n",
       "      <th>md</th>\n",
       "      <th>v_av</th>\n",
       "      <th>v_sd</th>\n",
       "    </tr>\n",
       "  </thead>\n",
       "  <tbody>\n",
       "    <tr>\n",
       "      <th>0</th>\n",
       "      <td>0.1</td>\n",
       "      <td>13</td>\n",
       "      <td>2000</td>\n",
       "      <td>3000</td>\n",
       "      <td>0.09893</td>\n",
       "      <td>0.08043</td>\n",
       "    </tr>\n",
       "    <tr>\n",
       "      <th>1</th>\n",
       "      <td>0.2</td>\n",
       "      <td>13</td>\n",
       "      <td>2000</td>\n",
       "      <td>3000</td>\n",
       "      <td>0.49694</td>\n",
       "      <td>0.44099</td>\n",
       "    </tr>\n",
       "    <tr>\n",
       "      <th>2</th>\n",
       "      <td>0.3</td>\n",
       "      <td>13</td>\n",
       "      <td>2000</td>\n",
       "      <td>3000</td>\n",
       "      <td>5.14376</td>\n",
       "      <td>3.07438</td>\n",
       "    </tr>\n",
       "    <tr>\n",
       "      <th>3</th>\n",
       "      <td>0.4</td>\n",
       "      <td>13</td>\n",
       "      <td>2000</td>\n",
       "      <td>3000</td>\n",
       "      <td>5.41553</td>\n",
       "      <td>2.34461</td>\n",
       "    </tr>\n",
       "    <tr>\n",
       "      <th>4</th>\n",
       "      <td>0.5</td>\n",
       "      <td>13</td>\n",
       "      <td>2000</td>\n",
       "      <td>3000</td>\n",
       "      <td>6.04005</td>\n",
       "      <td>3.28116</td>\n",
       "    </tr>\n",
       "    <tr>\n",
       "      <th>5</th>\n",
       "      <td>0.6</td>\n",
       "      <td>13</td>\n",
       "      <td>2000</td>\n",
       "      <td>3000</td>\n",
       "      <td>6.66972</td>\n",
       "      <td>1.15667</td>\n",
       "    </tr>\n",
       "    <tr>\n",
       "      <th>6</th>\n",
       "      <td>0.7</td>\n",
       "      <td>13</td>\n",
       "      <td>2000</td>\n",
       "      <td>3000</td>\n",
       "      <td>6.79622</td>\n",
       "      <td>1.10787</td>\n",
       "    </tr>\n",
       "    <tr>\n",
       "      <th>7</th>\n",
       "      <td>0.8</td>\n",
       "      <td>13</td>\n",
       "      <td>2000</td>\n",
       "      <td>3000</td>\n",
       "      <td>6.76524</td>\n",
       "      <td>1.07794</td>\n",
       "    </tr>\n",
       "    <tr>\n",
       "      <th>8</th>\n",
       "      <td>0.9</td>\n",
       "      <td>13</td>\n",
       "      <td>2000</td>\n",
       "      <td>3000</td>\n",
       "      <td>6.56418</td>\n",
       "      <td>1.04057</td>\n",
       "    </tr>\n",
       "    <tr>\n",
       "      <th>9</th>\n",
       "      <td>1.0</td>\n",
       "      <td>13</td>\n",
       "      <td>2000</td>\n",
       "      <td>3000</td>\n",
       "      <td>6.39632</td>\n",
       "      <td>0.53641</td>\n",
       "    </tr>\n",
       "  </tbody>\n",
       "</table>\n",
       "</div>"
      ],
      "text/plain": [
       "     r   b   atp    md     v_av     v_sd\n",
       "0  0.1  13  2000  3000  0.09893  0.08043\n",
       "1  0.2  13  2000  3000  0.49694  0.44099\n",
       "2  0.3  13  2000  3000  5.14376  3.07438\n",
       "3  0.4  13  2000  3000  5.41553  2.34461\n",
       "4  0.5  13  2000  3000  6.04005  3.28116\n",
       "5  0.6  13  2000  3000  6.66972  1.15667\n",
       "6  0.7  13  2000  3000  6.79622  1.10787\n",
       "7  0.8  13  2000  3000  6.76524  1.07794\n",
       "8  0.9  13  2000  3000  6.56418  1.04057\n",
       "9  1.0  13  2000  3000  6.39632  0.53641"
      ]
     },
     "execution_count": 23,
     "metadata": {},
     "output_type": "execute_result"
    }
   ],
   "source": [
    "df[0:10]"
   ]
  },
  {
   "cell_type": "code",
   "execution_count": 25,
   "metadata": {},
   "outputs": [],
   "source": [
    "r_change = df[0:10]"
   ]
  },
  {
   "cell_type": "code",
   "execution_count": 26,
   "metadata": {},
   "outputs": [
    {
     "data": {
      "text/plain": [
       "0    0.09893\n",
       "1    0.49694\n",
       "2    5.14376\n",
       "3    5.41553\n",
       "4    6.04005\n",
       "5    6.66972\n",
       "6    6.79622\n",
       "7    6.76524\n",
       "8    6.56418\n",
       "9    6.39632\n",
       "Name: v_av, dtype: float64"
      ]
     },
     "execution_count": 26,
     "metadata": {},
     "output_type": "execute_result"
    }
   ],
   "source": [
    "r_change['v_av']"
   ]
  },
  {
   "cell_type": "code",
   "execution_count": 46,
   "metadata": {},
   "outputs": [
    {
     "data": {
      "image/png": "[encoded data removed]",
      "text/plain": [
       "<Figure size 720x576 with 1 Axes>"
      ]
     },
     "metadata": {
      "needs_background": "light"
     },
     "output_type": "display_data"
    }
   ],
   "source": [
    "plt.figure(figsize=(10,8))\n",
    "plt.errorbar(r_change['r'],r_change['v_av'],yerr=r_change['v_sd'], ecolor='b', capsize=7, \\\n",
    "             mec='blue', color='green', marker='D', linestyle='-', linewidth=2, \\\n",
    "             markersize=7, label='Mean Velocity Deviation: ATP = 2000, MD = 3000')\n",
    "plt.xlabel('Specie Ratio', fontdict=font); plt.ylabel('Mean Velocity', fontdict=font)\n",
    "plt.title('Actin Filament Movement'); plt.legend(loc='upper left'); plt.grid()"
   ]
  },
  {
   "cell_type": "code",
   "execution_count": 50,
   "metadata": {},
   "outputs": [
    {
     "data": {
      "text/html": [
       "<div>\n",
       "<style scoped>\n",
       "    .dataframe tbody tr th:only-of-type {\n",
       "        vertical-align: middle;\n",
       "    }\n",
       "\n",
       "    .dataframe tbody tr th {\n",
       "        vertical-align: top;\n",
       "    }\n",
       "\n",
       "    .dataframe thead th {\n",
       "        text-align: right;\n",
       "    }\n",
       "</style>\n",
       "<table border=\"1\" class=\"dataframe\">\n",
       "  <thead>\n",
       "    <tr style=\"text-align: right;\">\n",
       "      <th></th>\n",
       "      <th>r</th>\n",
       "      <th>b</th>\n",
       "      <th>atp</th>\n",
       "      <th>md</th>\n",
       "      <th>v_av</th>\n",
       "      <th>v_sd</th>\n",
       "    </tr>\n",
       "  </thead>\n",
       "  <tbody>\n",
       "    <tr>\n",
       "      <th>10</th>\n",
       "      <td>0.9</td>\n",
       "      <td>13</td>\n",
       "      <td>300</td>\n",
       "      <td>3000</td>\n",
       "      <td>3.16475</td>\n",
       "      <td>0.42185</td>\n",
       "    </tr>\n",
       "    <tr>\n",
       "      <th>11</th>\n",
       "      <td>0.9</td>\n",
       "      <td>13</td>\n",
       "      <td>600</td>\n",
       "      <td>3000</td>\n",
       "      <td>4.48637</td>\n",
       "      <td>0.46199</td>\n",
       "    </tr>\n",
       "    <tr>\n",
       "      <th>12</th>\n",
       "      <td>0.9</td>\n",
       "      <td>13</td>\n",
       "      <td>900</td>\n",
       "      <td>3000</td>\n",
       "      <td>5.22617</td>\n",
       "      <td>0.92963</td>\n",
       "    </tr>\n",
       "    <tr>\n",
       "      <th>13</th>\n",
       "      <td>0.9</td>\n",
       "      <td>13</td>\n",
       "      <td>1200</td>\n",
       "      <td>3000</td>\n",
       "      <td>5.47609</td>\n",
       "      <td>0.44497</td>\n",
       "    </tr>\n",
       "    <tr>\n",
       "      <th>14</th>\n",
       "      <td>0.9</td>\n",
       "      <td>13</td>\n",
       "      <td>1500</td>\n",
       "      <td>3000</td>\n",
       "      <td>6.15356</td>\n",
       "      <td>0.56837</td>\n",
       "    </tr>\n",
       "    <tr>\n",
       "      <th>15</th>\n",
       "      <td>0.9</td>\n",
       "      <td>13</td>\n",
       "      <td>1800</td>\n",
       "      <td>3000</td>\n",
       "      <td>6.38277</td>\n",
       "      <td>1.16754</td>\n",
       "    </tr>\n",
       "    <tr>\n",
       "      <th>16</th>\n",
       "      <td>0.9</td>\n",
       "      <td>13</td>\n",
       "      <td>2100</td>\n",
       "      <td>3000</td>\n",
       "      <td>6.64491</td>\n",
       "      <td>0.93268</td>\n",
       "    </tr>\n",
       "    <tr>\n",
       "      <th>17</th>\n",
       "      <td>0.9</td>\n",
       "      <td>13</td>\n",
       "      <td>2400</td>\n",
       "      <td>3000</td>\n",
       "      <td>6.67938</td>\n",
       "      <td>0.61918</td>\n",
       "    </tr>\n",
       "    <tr>\n",
       "      <th>18</th>\n",
       "      <td>0.9</td>\n",
       "      <td>13</td>\n",
       "      <td>2700</td>\n",
       "      <td>3000</td>\n",
       "      <td>6.65730</td>\n",
       "      <td>0.78833</td>\n",
       "    </tr>\n",
       "    <tr>\n",
       "      <th>19</th>\n",
       "      <td>0.9</td>\n",
       "      <td>13</td>\n",
       "      <td>3000</td>\n",
       "      <td>3000</td>\n",
       "      <td>7.02342</td>\n",
       "      <td>0.40345</td>\n",
       "    </tr>\n",
       "    <tr>\n",
       "      <th>20</th>\n",
       "      <td>0.9</td>\n",
       "      <td>13</td>\n",
       "      <td>3300</td>\n",
       "      <td>3000</td>\n",
       "      <td>7.15628</td>\n",
       "      <td>1.10814</td>\n",
       "    </tr>\n",
       "    <tr>\n",
       "      <th>21</th>\n",
       "      <td>0.9</td>\n",
       "      <td>13</td>\n",
       "      <td>3600</td>\n",
       "      <td>3000</td>\n",
       "      <td>7.31357</td>\n",
       "      <td>1.08375</td>\n",
       "    </tr>\n",
       "    <tr>\n",
       "      <th>22</th>\n",
       "      <td>0.9</td>\n",
       "      <td>13</td>\n",
       "      <td>3900</td>\n",
       "      <td>3000</td>\n",
       "      <td>7.16177</td>\n",
       "      <td>0.61391</td>\n",
       "    </tr>\n",
       "    <tr>\n",
       "      <th>23</th>\n",
       "      <td>0.9</td>\n",
       "      <td>13</td>\n",
       "      <td>4200</td>\n",
       "      <td>3000</td>\n",
       "      <td>7.29127</td>\n",
       "      <td>0.83575</td>\n",
       "    </tr>\n",
       "    <tr>\n",
       "      <th>24</th>\n",
       "      <td>0.9</td>\n",
       "      <td>13</td>\n",
       "      <td>4500</td>\n",
       "      <td>3000</td>\n",
       "      <td>7.34592</td>\n",
       "      <td>0.92825</td>\n",
       "    </tr>\n",
       "  </tbody>\n",
       "</table>\n",
       "</div>"
      ],
      "text/plain": [
       "      r   b   atp    md     v_av     v_sd\n",
       "10  0.9  13   300  3000  3.16475  0.42185\n",
       "11  0.9  13   600  3000  4.48637  0.46199\n",
       "12  0.9  13   900  3000  5.22617  0.92963\n",
       "13  0.9  13  1200  3000  5.47609  0.44497\n",
       "14  0.9  13  1500  3000  6.15356  0.56837\n",
       "15  0.9  13  1800  3000  6.38277  1.16754\n",
       "16  0.9  13  2100  3000  6.64491  0.93268\n",
       "17  0.9  13  2400  3000  6.67938  0.61918\n",
       "18  0.9  13  2700  3000  6.65730  0.78833\n",
       "19  0.9  13  3000  3000  7.02342  0.40345\n",
       "20  0.9  13  3300  3000  7.15628  1.10814\n",
       "21  0.9  13  3600  3000  7.31357  1.08375\n",
       "22  0.9  13  3900  3000  7.16177  0.61391\n",
       "23  0.9  13  4200  3000  7.29127  0.83575\n",
       "24  0.9  13  4500  3000  7.34592  0.92825"
      ]
     },
     "execution_count": 50,
     "metadata": {},
     "output_type": "execute_result"
    }
   ],
   "source": [
    "df[10:25]"
   ]
  },
  {
   "cell_type": "code",
   "execution_count": 51,
   "metadata": {},
   "outputs": [],
   "source": [
    "atp_change = df[10:25]"
   ]
  },
  {
   "cell_type": "code",
   "execution_count": 54,
   "metadata": {},
   "outputs": [
    {
     "data": {
      "image/png": "[encoded data removed]",
      "text/plain": [
       "<Figure size 720x576 with 1 Axes>"
      ]
     },
     "metadata": {
      "needs_background": "light"
     },
     "output_type": "display_data"
    }
   ],
   "source": [
    "plt.figure(figsize=(10,8))\n",
    "plt.errorbar(atp_change['atp'],atp_change['v_av'],yerr=atp_change['v_sd'], ecolor='b', capsize=7, \\\n",
    "             mec='blue', color='green', marker='D', linestyle='-', linewidth=2, \\\n",
    "             markersize=7, label='Mean Velocity Deviation: Ratio = 90%, MD = 3000')\n",
    "plt.xlabel('ATP', fontdict=font); plt.ylabel('Mean Velocity', fontdict=font)\n",
    "plt.title('Actin Filament Movement'); plt.legend(loc='upper left'); plt.grid()"
   ]
  },
  {
   "cell_type": "code",
   "execution_count": 56,
   "metadata": {},
   "outputs": [
    {
     "data": {
      "text/html": [
       "<div>\n",
       "<style scoped>\n",
       "    .dataframe tbody tr th:only-of-type {\n",
       "        vertical-align: middle;\n",
       "    }\n",
       "\n",
       "    .dataframe tbody tr th {\n",
       "        vertical-align: top;\n",
       "    }\n",
       "\n",
       "    .dataframe thead th {\n",
       "        text-align: right;\n",
       "    }\n",
       "</style>\n",
       "<table border=\"1\" class=\"dataframe\">\n",
       "  <thead>\n",
       "    <tr style=\"text-align: right;\">\n",
       "      <th></th>\n",
       "      <th>r</th>\n",
       "      <th>b</th>\n",
       "      <th>atp</th>\n",
       "      <th>md</th>\n",
       "      <th>v_av</th>\n",
       "      <th>v_sd</th>\n",
       "    </tr>\n",
       "  </thead>\n",
       "  <tbody>\n",
       "    <tr>\n",
       "      <th>25</th>\n",
       "      <td>0.9</td>\n",
       "      <td>13</td>\n",
       "      <td>2000</td>\n",
       "      <td>1000</td>\n",
       "      <td>5.93888</td>\n",
       "      <td>2.88525</td>\n",
       "    </tr>\n",
       "    <tr>\n",
       "      <th>26</th>\n",
       "      <td>0.9</td>\n",
       "      <td>13</td>\n",
       "      <td>2000</td>\n",
       "      <td>2000</td>\n",
       "      <td>6.73108</td>\n",
       "      <td>1.30774</td>\n",
       "    </tr>\n",
       "    <tr>\n",
       "      <th>27</th>\n",
       "      <td>0.9</td>\n",
       "      <td>13</td>\n",
       "      <td>2000</td>\n",
       "      <td>3000</td>\n",
       "      <td>6.56418</td>\n",
       "      <td>1.04057</td>\n",
       "    </tr>\n",
       "    <tr>\n",
       "      <th>28</th>\n",
       "      <td>0.9</td>\n",
       "      <td>13</td>\n",
       "      <td>2000</td>\n",
       "      <td>4000</td>\n",
       "      <td>6.39449</td>\n",
       "      <td>0.50562</td>\n",
       "    </tr>\n",
       "    <tr>\n",
       "      <th>29</th>\n",
       "      <td>0.9</td>\n",
       "      <td>13</td>\n",
       "      <td>2000</td>\n",
       "      <td>5000</td>\n",
       "      <td>5.77560</td>\n",
       "      <td>1.90921</td>\n",
       "    </tr>\n",
       "  </tbody>\n",
       "</table>\n",
       "</div>"
      ],
      "text/plain": [
       "      r   b   atp    md     v_av     v_sd\n",
       "25  0.9  13  2000  1000  5.93888  2.88525\n",
       "26  0.9  13  2000  2000  6.73108  1.30774\n",
       "27  0.9  13  2000  3000  6.56418  1.04057\n",
       "28  0.9  13  2000  4000  6.39449  0.50562\n",
       "29  0.9  13  2000  5000  5.77560  1.90921"
      ]
     },
     "execution_count": 56,
     "metadata": {},
     "output_type": "execute_result"
    }
   ],
   "source": [
    "df[25:30]"
   ]
  },
  {
   "cell_type": "code",
   "execution_count": 57,
   "metadata": {},
   "outputs": [],
   "source": [
    "md_change = df[25:30]"
   ]
  },
  {
   "cell_type": "code",
   "execution_count": 59,
   "metadata": {},
   "outputs": [
    {
     "data": {
      "image/png": "[encoded data removed]",
      "text/plain": [
       "<Figure size 720x576 with 1 Axes>"
      ]
     },
     "metadata": {
      "needs_background": "light"
     },
     "output_type": "display_data"
    }
   ],
   "source": [
    "plt.figure(figsize=(10,8))\n",
    "plt.errorbar(md_change['md'],md_change['v_av'],yerr=md_change['v_sd'], ecolor='b', capsize=7, \\\n",
    "             mec='blue', color='green', marker='D', linestyle='-', linewidth=2, \\\n",
    "             markersize=7, label='Mean Velocity Deviation: Ratio = 90%, ATP = 2000')\n",
    "plt.xlabel('Motor Density', fontdict=font); plt.ylabel('Mean Velocity', fontdict=font)\n",
    "plt.title('Actin Filament Movement'); plt.legend(loc='upper left'); plt.grid()"
   ]
  },
  {
   "cell_type": "code",
   "execution_count": null,
   "metadata": {},
   "outputs": [],
   "source": []
  }
 ],
 "metadata": {
  "kernelspec": {
   "display_name": "Python 3",
   "language": "python",
   "name": "python3"
  },
  "language_info": {
   "codemirror_mode": {
    "name": "ipython",
    "version": 3
   },
   "file_extension": ".py",
   "mimetype": "text/x-python",
   "name": "python",
   "nbconvert_exporter": "python",
   "pygments_lexer": "ipython3",
   "version": "3.5.2"
  }
 },
 "nbformat": 4,
 "nbformat_minor": 2
}
