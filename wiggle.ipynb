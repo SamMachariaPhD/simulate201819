{
 "cells": [
  {
   "cell_type": "code",
   "execution_count": 1,
   "metadata": {},
   "outputs": [],
   "source": [
    "%run preparation.py\n",
    "import csv, os"
   ]
  },
  {
   "cell_type": "code",
   "execution_count": 2,
   "metadata": {},
   "outputs": [],
   "source": [
    "try:\n",
    "    os.remove('wiggle.csv')\n",
    "    os.remove('cwiggle.csv')\n",
    "except(OSError,RuntimeError,TypeError,NameError):\n",
    "    pass\n",
    "\n",
    "df = conf7; a = 0; b = 1; c = 11; d = 12\n",
    "\n",
    "while d<3912:\n",
    "    x1 = df.loc[b,'x'] - df.loc[a,'x']\n",
    "    y1 = df.loc[b,'y'] - df.loc[a,'y']\n",
    "    den1 = np.sqrt((x1**2)+(y1**2))\n",
    "    xl = df.loc[d,'x'] - df.loc[c,'x']\n",
    "    yl = df.loc[d,'y'] - df.loc[c,'y']\n",
    "    denl = np.sqrt((xl**2)+(yl**2))\n",
    "    n1 = np.arccos(x1/den1)\n",
    "    nl = np.arccos(xl/denl)\n",
    "    dn = nl-n1\n",
    "    cdn = np.cos(nl - n1)\n",
    "    with open('wiggle.csv','a') as fd:\n",
    "        writer = csv.writer(fd)\n",
    "        writer.writerow([dn])\n",
    "    with open('cwiggle.csv','a') as fd:\n",
    "        writer = csv.writer(fd)\n",
    "        writer.writerow([cdn])\n",
    "    a = a+13; b = b+13; c = c+13; d = d+13"
   ]
  },
  {
   "cell_type": "code",
   "execution_count": 3,
   "metadata": {
    "scrolled": true
   },
   "outputs": [
    {
     "data": {
      "text/plain": [
       "array([[<matplotlib.axes._subplots.AxesSubplot object at 0x7fda92b66400>]],\n",
       "      dtype=object)"
      ]
     },
     "execution_count": 3,
     "metadata": {},
     "output_type": "execute_result"
    },
    {
     "data": {
      "image/png": "[encoded data removed]",
      "text/plain": [
       "<Figure size 432x288 with 1 Axes>"
      ]
     },
     "metadata": {
      "needs_background": "light"
     },
     "output_type": "display_data"
    }
   ],
   "source": [
    "wdata = pd.read_csv('wiggle.csv', names=['Dtheta'])\n",
    "wdata.hist(bins=20)"
   ]
  },
  {
   "cell_type": "code",
   "execution_count": 4,
   "metadata": {},
   "outputs": [
    {
     "data": {
      "text/plain": [
       "Acd    14.914296\n",
       "dtype: float64"
      ]
     },
     "execution_count": 4,
     "metadata": {},
     "output_type": "execute_result"
    }
   ],
   "source": [
    "cwdata = pd.read_csv('cwiggle.csv', names=['Acd'])\n",
    "Lp = -(3/(2*np.log(cwdata.mean())))\n",
    "Lp"
   ]
  },
  {
   "cell_type": "code",
   "execution_count": 5,
   "metadata": {},
   "outputs": [
    {
     "data": {
      "text/plain": [
       "Acd    0.904318\n",
       "dtype: float64"
      ]
     },
     "execution_count": 5,
     "metadata": {},
     "output_type": "execute_result"
    }
   ],
   "source": [
    "cwdata.mean()"
   ]
  },
  {
   "cell_type": "code",
   "execution_count": 292,
   "metadata": {},
   "outputs": [
    {
     "data": {
      "text/html": [
       "<div>\n",
       "<style scoped>\n",
       "    .dataframe tbody tr th:only-of-type {\n",
       "        vertical-align: middle;\n",
       "    }\n",
       "\n",
       "    .dataframe tbody tr th {\n",
       "        vertical-align: top;\n",
       "    }\n",
       "\n",
       "    .dataframe thead th {\n",
       "        text-align: right;\n",
       "    }\n",
       "</style>\n",
       "<table border=\"1\" class=\"dataframe\">\n",
       "  <thead>\n",
       "    <tr style=\"text-align: right;\">\n",
       "      <th></th>\n",
       "      <th>mt</th>\n",
       "      <th>no</th>\n",
       "      <th>x</th>\n",
       "      <th>y</th>\n",
       "      <th>th</th>\n",
       "    </tr>\n",
       "  </thead>\n",
       "  <tbody>\n",
       "    <tr>\n",
       "      <th>0</th>\n",
       "      <td>1</td>\n",
       "      <td>1</td>\n",
       "      <td>0.000000</td>\n",
       "      <td>0.000000</td>\n",
       "      <td>0.000000</td>\n",
       "    </tr>\n",
       "    <tr>\n",
       "      <th>1</th>\n",
       "      <td>1</td>\n",
       "      <td>2</td>\n",
       "      <td>0.062185</td>\n",
       "      <td>-0.001725</td>\n",
       "      <td>-0.027731</td>\n",
       "    </tr>\n",
       "    <tr>\n",
       "      <th>2</th>\n",
       "      <td>1</td>\n",
       "      <td>3</td>\n",
       "      <td>0.153397</td>\n",
       "      <td>-0.006496</td>\n",
       "      <td>-0.052256</td>\n",
       "    </tr>\n",
       "    <tr>\n",
       "      <th>3</th>\n",
       "      <td>1</td>\n",
       "      <td>4</td>\n",
       "      <td>0.262440</td>\n",
       "      <td>-0.013267</td>\n",
       "      <td>-0.062022</td>\n",
       "    </tr>\n",
       "    <tr>\n",
       "      <th>4</th>\n",
       "      <td>1</td>\n",
       "      <td>5</td>\n",
       "      <td>0.353318</td>\n",
       "      <td>-0.015227</td>\n",
       "      <td>-0.021558</td>\n",
       "    </tr>\n",
       "    <tr>\n",
       "      <th>5</th>\n",
       "      <td>1</td>\n",
       "      <td>6</td>\n",
       "      <td>0.415266</td>\n",
       "      <td>-0.015337</td>\n",
       "      <td>-0.001781</td>\n",
       "    </tr>\n",
       "    <tr>\n",
       "      <th>6</th>\n",
       "      <td>1</td>\n",
       "      <td>7</td>\n",
       "      <td>0.512572</td>\n",
       "      <td>-0.012347</td>\n",
       "      <td>0.030718</td>\n",
       "    </tr>\n",
       "    <tr>\n",
       "      <th>7</th>\n",
       "      <td>1</td>\n",
       "      <td>8</td>\n",
       "      <td>0.590048</td>\n",
       "      <td>-0.006888</td>\n",
       "      <td>0.070351</td>\n",
       "    </tr>\n",
       "    <tr>\n",
       "      <th>8</th>\n",
       "      <td>1</td>\n",
       "      <td>9</td>\n",
       "      <td>0.662916</td>\n",
       "      <td>-0.002869</td>\n",
       "      <td>0.055091</td>\n",
       "    </tr>\n",
       "    <tr>\n",
       "      <th>9</th>\n",
       "      <td>1</td>\n",
       "      <td>10</td>\n",
       "      <td>0.735945</td>\n",
       "      <td>0.002736</td>\n",
       "      <td>0.076608</td>\n",
       "    </tr>\n",
       "    <tr>\n",
       "      <th>10</th>\n",
       "      <td>1</td>\n",
       "      <td>11</td>\n",
       "      <td>0.814838</td>\n",
       "      <td>0.009803</td>\n",
       "      <td>0.089338</td>\n",
       "    </tr>\n",
       "    <tr>\n",
       "      <th>11</th>\n",
       "      <td>1</td>\n",
       "      <td>12</td>\n",
       "      <td>0.934083</td>\n",
       "      <td>0.022601</td>\n",
       "      <td>0.106912</td>\n",
       "    </tr>\n",
       "    <tr>\n",
       "      <th>12</th>\n",
       "      <td>1</td>\n",
       "      <td>13</td>\n",
       "      <td>0.996234</td>\n",
       "      <td>0.028653</td>\n",
       "      <td>0.097076</td>\n",
       "    </tr>\n",
       "    <tr>\n",
       "      <th>13</th>\n",
       "      <td>1</td>\n",
       "      <td>14</td>\n",
       "      <td>1.074137</td>\n",
       "      <td>0.038165</td>\n",
       "      <td>0.121499</td>\n",
       "    </tr>\n",
       "    <tr>\n",
       "      <th>14</th>\n",
       "      <td>1</td>\n",
       "      <td>15</td>\n",
       "      <td>1.144200</td>\n",
       "      <td>0.047893</td>\n",
       "      <td>0.137958</td>\n",
       "    </tr>\n",
       "    <tr>\n",
       "      <th>15</th>\n",
       "      <td>1</td>\n",
       "      <td>16</td>\n",
       "      <td>1.209323</td>\n",
       "      <td>0.056241</td>\n",
       "      <td>0.127493</td>\n",
       "    </tr>\n",
       "    <tr>\n",
       "      <th>16</th>\n",
       "      <td>1</td>\n",
       "      <td>17</td>\n",
       "      <td>1.299272</td>\n",
       "      <td>0.070796</td>\n",
       "      <td>0.160431</td>\n",
       "    </tr>\n",
       "    <tr>\n",
       "      <th>17</th>\n",
       "      <td>1</td>\n",
       "      <td>18</td>\n",
       "      <td>1.354754</td>\n",
       "      <td>0.080119</td>\n",
       "      <td>0.166471</td>\n",
       "    </tr>\n",
       "    <tr>\n",
       "      <th>18</th>\n",
       "      <td>1</td>\n",
       "      <td>19</td>\n",
       "      <td>1.409573</td>\n",
       "      <td>0.088329</td>\n",
       "      <td>0.148657</td>\n",
       "    </tr>\n",
       "    <tr>\n",
       "      <th>19</th>\n",
       "      <td>1</td>\n",
       "      <td>20</td>\n",
       "      <td>1.494924</td>\n",
       "      <td>0.099358</td>\n",
       "      <td>0.128512</td>\n",
       "    </tr>\n",
       "    <tr>\n",
       "      <th>20</th>\n",
       "      <td>1</td>\n",
       "      <td>21</td>\n",
       "      <td>1.587706</td>\n",
       "      <td>0.109564</td>\n",
       "      <td>0.109561</td>\n",
       "    </tr>\n",
       "    <tr>\n",
       "      <th>21</th>\n",
       "      <td>1</td>\n",
       "      <td>22</td>\n",
       "      <td>1.673677</td>\n",
       "      <td>0.117168</td>\n",
       "      <td>0.088223</td>\n",
       "    </tr>\n",
       "    <tr>\n",
       "      <th>22</th>\n",
       "      <td>1</td>\n",
       "      <td>23</td>\n",
       "      <td>1.770219</td>\n",
       "      <td>0.126517</td>\n",
       "      <td>0.096529</td>\n",
       "    </tr>\n",
       "    <tr>\n",
       "      <th>23</th>\n",
       "      <td>1</td>\n",
       "      <td>24</td>\n",
       "      <td>1.860502</td>\n",
       "      <td>0.135578</td>\n",
       "      <td>0.100036</td>\n",
       "    </tr>\n",
       "    <tr>\n",
       "      <th>24</th>\n",
       "      <td>1</td>\n",
       "      <td>25</td>\n",
       "      <td>1.962458</td>\n",
       "      <td>0.142114</td>\n",
       "      <td>0.064018</td>\n",
       "    </tr>\n",
       "    <tr>\n",
       "      <th>25</th>\n",
       "      <td>1</td>\n",
       "      <td>26</td>\n",
       "      <td>2.057661</td>\n",
       "      <td>0.148905</td>\n",
       "      <td>0.071202</td>\n",
       "    </tr>\n",
       "    <tr>\n",
       "      <th>26</th>\n",
       "      <td>1</td>\n",
       "      <td>27</td>\n",
       "      <td>2.122100</td>\n",
       "      <td>0.151198</td>\n",
       "      <td>0.035582</td>\n",
       "    </tr>\n",
       "    <tr>\n",
       "      <th>27</th>\n",
       "      <td>1</td>\n",
       "      <td>28</td>\n",
       "      <td>2.199425</td>\n",
       "      <td>0.152259</td>\n",
       "      <td>0.013711</td>\n",
       "    </tr>\n",
       "    <tr>\n",
       "      <th>28</th>\n",
       "      <td>1</td>\n",
       "      <td>29</td>\n",
       "      <td>2.225535</td>\n",
       "      <td>0.152561</td>\n",
       "      <td>0.011574</td>\n",
       "    </tr>\n",
       "    <tr>\n",
       "      <th>29</th>\n",
       "      <td>1</td>\n",
       "      <td>30</td>\n",
       "      <td>2.316490</td>\n",
       "      <td>0.151930</td>\n",
       "      <td>-0.006931</td>\n",
       "    </tr>\n",
       "    <tr>\n",
       "      <th>...</th>\n",
       "      <td>...</td>\n",
       "      <td>...</td>\n",
       "      <td>...</td>\n",
       "      <td>...</td>\n",
       "      <td>...</td>\n",
       "    </tr>\n",
       "    <tr>\n",
       "      <th>970</th>\n",
       "      <td>1</td>\n",
       "      <td>971</td>\n",
       "      <td>78.208872</td>\n",
       "      <td>-12.231549</td>\n",
       "      <td>-0.845682</td>\n",
       "    </tr>\n",
       "    <tr>\n",
       "      <th>971</th>\n",
       "      <td>1</td>\n",
       "      <td>972</td>\n",
       "      <td>78.259718</td>\n",
       "      <td>-12.294473</td>\n",
       "      <td>-0.891167</td>\n",
       "    </tr>\n",
       "    <tr>\n",
       "      <th>972</th>\n",
       "      <td>1</td>\n",
       "      <td>973</td>\n",
       "      <td>78.310990</td>\n",
       "      <td>-12.357538</td>\n",
       "      <td>-0.888172</td>\n",
       "    </tr>\n",
       "    <tr>\n",
       "      <th>973</th>\n",
       "      <td>1</td>\n",
       "      <td>974</td>\n",
       "      <td>78.364960</td>\n",
       "      <td>-12.421044</td>\n",
       "      <td>-0.866395</td>\n",
       "    </tr>\n",
       "    <tr>\n",
       "      <th>974</th>\n",
       "      <td>1</td>\n",
       "      <td>975</td>\n",
       "      <td>78.429027</td>\n",
       "      <td>-12.494336</td>\n",
       "      <td>-0.852453</td>\n",
       "    </tr>\n",
       "    <tr>\n",
       "      <th>975</th>\n",
       "      <td>1</td>\n",
       "      <td>976</td>\n",
       "      <td>78.493068</td>\n",
       "      <td>-12.569243</td>\n",
       "      <td>-0.863447</td>\n",
       "    </tr>\n",
       "    <tr>\n",
       "      <th>976</th>\n",
       "      <td>1</td>\n",
       "      <td>977</td>\n",
       "      <td>78.548113</td>\n",
       "      <td>-12.631724</td>\n",
       "      <td>-0.848583</td>\n",
       "    </tr>\n",
       "    <tr>\n",
       "      <th>977</th>\n",
       "      <td>1</td>\n",
       "      <td>978</td>\n",
       "      <td>78.607113</td>\n",
       "      <td>-12.700793</td>\n",
       "      <td>-0.863857</td>\n",
       "    </tr>\n",
       "    <tr>\n",
       "      <th>978</th>\n",
       "      <td>1</td>\n",
       "      <td>979</td>\n",
       "      <td>78.672388</td>\n",
       "      <td>-12.777123</td>\n",
       "      <td>-0.863310</td>\n",
       "    </tr>\n",
       "    <tr>\n",
       "      <th>979</th>\n",
       "      <td>1</td>\n",
       "      <td>980</td>\n",
       "      <td>78.723565</td>\n",
       "      <td>-12.838801</td>\n",
       "      <td>-0.878184</td>\n",
       "    </tr>\n",
       "    <tr>\n",
       "      <th>980</th>\n",
       "      <td>1</td>\n",
       "      <td>981</td>\n",
       "      <td>78.751382</td>\n",
       "      <td>-12.869536</td>\n",
       "      <td>-0.835186</td>\n",
       "    </tr>\n",
       "    <tr>\n",
       "      <th>981</th>\n",
       "      <td>1</td>\n",
       "      <td>982</td>\n",
       "      <td>78.774188</td>\n",
       "      <td>-12.894964</td>\n",
       "      <td>-0.839702</td>\n",
       "    </tr>\n",
       "    <tr>\n",
       "      <th>982</th>\n",
       "      <td>1</td>\n",
       "      <td>983</td>\n",
       "      <td>78.851291</td>\n",
       "      <td>-12.992286</td>\n",
       "      <td>-0.900801</td>\n",
       "    </tr>\n",
       "    <tr>\n",
       "      <th>983</th>\n",
       "      <td>1</td>\n",
       "      <td>984</td>\n",
       "      <td>78.890182</td>\n",
       "      <td>-13.042250</td>\n",
       "      <td>-0.909379</td>\n",
       "    </tr>\n",
       "    <tr>\n",
       "      <th>984</th>\n",
       "      <td>1</td>\n",
       "      <td>985</td>\n",
       "      <td>78.957642</td>\n",
       "      <td>-13.134292</td>\n",
       "      <td>-0.938307</td>\n",
       "    </tr>\n",
       "    <tr>\n",
       "      <th>985</th>\n",
       "      <td>1</td>\n",
       "      <td>986</td>\n",
       "      <td>79.023371</td>\n",
       "      <td>-13.232718</td>\n",
       "      <td>-0.982016</td>\n",
       "    </tr>\n",
       "    <tr>\n",
       "      <th>986</th>\n",
       "      <td>1</td>\n",
       "      <td>987</td>\n",
       "      <td>79.074266</td>\n",
       "      <td>-13.299349</td>\n",
       "      <td>-0.918495</td>\n",
       "    </tr>\n",
       "    <tr>\n",
       "      <th>987</th>\n",
       "      <td>1</td>\n",
       "      <td>988</td>\n",
       "      <td>79.124106</td>\n",
       "      <td>-13.367269</td>\n",
       "      <td>-0.937750</td>\n",
       "    </tr>\n",
       "    <tr>\n",
       "      <th>988</th>\n",
       "      <td>1</td>\n",
       "      <td>989</td>\n",
       "      <td>79.162689</td>\n",
       "      <td>-13.423546</td>\n",
       "      <td>-0.969804</td>\n",
       "    </tr>\n",
       "    <tr>\n",
       "      <th>989</th>\n",
       "      <td>1</td>\n",
       "      <td>990</td>\n",
       "      <td>79.193803</td>\n",
       "      <td>-13.470652</td>\n",
       "      <td>-0.987056</td>\n",
       "    </tr>\n",
       "    <tr>\n",
       "      <th>990</th>\n",
       "      <td>1</td>\n",
       "      <td>991</td>\n",
       "      <td>79.245412</td>\n",
       "      <td>-13.547157</td>\n",
       "      <td>-0.977338</td>\n",
       "    </tr>\n",
       "    <tr>\n",
       "      <th>991</th>\n",
       "      <td>1</td>\n",
       "      <td>992</td>\n",
       "      <td>79.300258</td>\n",
       "      <td>-13.629042</td>\n",
       "      <td>-0.980630</td>\n",
       "    </tr>\n",
       "    <tr>\n",
       "      <th>992</th>\n",
       "      <td>1</td>\n",
       "      <td>993</td>\n",
       "      <td>79.356761</td>\n",
       "      <td>-13.713138</td>\n",
       "      <td>-0.979193</td>\n",
       "    </tr>\n",
       "    <tr>\n",
       "      <th>993</th>\n",
       "      <td>1</td>\n",
       "      <td>994</td>\n",
       "      <td>79.392899</td>\n",
       "      <td>-13.771140</td>\n",
       "      <td>-1.013600</td>\n",
       "    </tr>\n",
       "    <tr>\n",
       "      <th>994</th>\n",
       "      <td>1</td>\n",
       "      <td>995</td>\n",
       "      <td>79.441611</td>\n",
       "      <td>-13.852356</td>\n",
       "      <td>-1.030536</td>\n",
       "    </tr>\n",
       "    <tr>\n",
       "      <th>995</th>\n",
       "      <td>1</td>\n",
       "      <td>996</td>\n",
       "      <td>79.491882</td>\n",
       "      <td>-13.930005</td>\n",
       "      <td>-0.996243</td>\n",
       "    </tr>\n",
       "    <tr>\n",
       "      <th>996</th>\n",
       "      <td>1</td>\n",
       "      <td>997</td>\n",
       "      <td>79.538524</td>\n",
       "      <td>-13.997756</td>\n",
       "      <td>-0.967869</td>\n",
       "    </tr>\n",
       "    <tr>\n",
       "      <th>997</th>\n",
       "      <td>1</td>\n",
       "      <td>998</td>\n",
       "      <td>79.579839</td>\n",
       "      <td>-14.056463</td>\n",
       "      <td>-0.957556</td>\n",
       "    </tr>\n",
       "    <tr>\n",
       "      <th>998</th>\n",
       "      <td>1</td>\n",
       "      <td>999</td>\n",
       "      <td>79.625732</td>\n",
       "      <td>-14.122940</td>\n",
       "      <td>-0.966574</td>\n",
       "    </tr>\n",
       "    <tr>\n",
       "      <th>999</th>\n",
       "      <td>1</td>\n",
       "      <td>1000</td>\n",
       "      <td>79.669279</td>\n",
       "      <td>-14.185991</td>\n",
       "      <td>-0.966365</td>\n",
       "    </tr>\n",
       "  </tbody>\n",
       "</table>\n",
       "<p>1000 rows × 5 columns</p>\n",
       "</div>"
      ],
      "text/plain": [
       "     mt    no          x          y        th\n",
       "0     1     1   0.000000   0.000000  0.000000\n",
       "1     1     2   0.062185  -0.001725 -0.027731\n",
       "2     1     3   0.153397  -0.006496 -0.052256\n",
       "3     1     4   0.262440  -0.013267 -0.062022\n",
       "4     1     5   0.353318  -0.015227 -0.021558\n",
       "5     1     6   0.415266  -0.015337 -0.001781\n",
       "6     1     7   0.512572  -0.012347  0.030718\n",
       "7     1     8   0.590048  -0.006888  0.070351\n",
       "8     1     9   0.662916  -0.002869  0.055091\n",
       "9     1    10   0.735945   0.002736  0.076608\n",
       "10    1    11   0.814838   0.009803  0.089338\n",
       "11    1    12   0.934083   0.022601  0.106912\n",
       "12    1    13   0.996234   0.028653  0.097076\n",
       "13    1    14   1.074137   0.038165  0.121499\n",
       "14    1    15   1.144200   0.047893  0.137958\n",
       "15    1    16   1.209323   0.056241  0.127493\n",
       "16    1    17   1.299272   0.070796  0.160431\n",
       "17    1    18   1.354754   0.080119  0.166471\n",
       "18    1    19   1.409573   0.088329  0.148657\n",
       "19    1    20   1.494924   0.099358  0.128512\n",
       "20    1    21   1.587706   0.109564  0.109561\n",
       "21    1    22   1.673677   0.117168  0.088223\n",
       "22    1    23   1.770219   0.126517  0.096529\n",
       "23    1    24   1.860502   0.135578  0.100036\n",
       "24    1    25   1.962458   0.142114  0.064018\n",
       "25    1    26   2.057661   0.148905  0.071202\n",
       "26    1    27   2.122100   0.151198  0.035582\n",
       "27    1    28   2.199425   0.152259  0.013711\n",
       "28    1    29   2.225535   0.152561  0.011574\n",
       "29    1    30   2.316490   0.151930 -0.006931\n",
       "..   ..   ...        ...        ...       ...\n",
       "970   1   971  78.208872 -12.231549 -0.845682\n",
       "971   1   972  78.259718 -12.294473 -0.891167\n",
       "972   1   973  78.310990 -12.357538 -0.888172\n",
       "973   1   974  78.364960 -12.421044 -0.866395\n",
       "974   1   975  78.429027 -12.494336 -0.852453\n",
       "975   1   976  78.493068 -12.569243 -0.863447\n",
       "976   1   977  78.548113 -12.631724 -0.848583\n",
       "977   1   978  78.607113 -12.700793 -0.863857\n",
       "978   1   979  78.672388 -12.777123 -0.863310\n",
       "979   1   980  78.723565 -12.838801 -0.878184\n",
       "980   1   981  78.751382 -12.869536 -0.835186\n",
       "981   1   982  78.774188 -12.894964 -0.839702\n",
       "982   1   983  78.851291 -12.992286 -0.900801\n",
       "983   1   984  78.890182 -13.042250 -0.909379\n",
       "984   1   985  78.957642 -13.134292 -0.938307\n",
       "985   1   986  79.023371 -13.232718 -0.982016\n",
       "986   1   987  79.074266 -13.299349 -0.918495\n",
       "987   1   988  79.124106 -13.367269 -0.937750\n",
       "988   1   989  79.162689 -13.423546 -0.969804\n",
       "989   1   990  79.193803 -13.470652 -0.987056\n",
       "990   1   991  79.245412 -13.547157 -0.977338\n",
       "991   1   992  79.300258 -13.629042 -0.980630\n",
       "992   1   993  79.356761 -13.713138 -0.979193\n",
       "993   1   994  79.392899 -13.771140 -1.013600\n",
       "994   1   995  79.441611 -13.852356 -1.030536\n",
       "995   1   996  79.491882 -13.930005 -0.996243\n",
       "996   1   997  79.538524 -13.997756 -0.967869\n",
       "997   1   998  79.579839 -14.056463 -0.957556\n",
       "998   1   999  79.625732 -14.122940 -0.966574\n",
       "999   1  1000  79.669279 -14.185991 -0.966365\n",
       "\n",
       "[1000 rows x 5 columns]"
      ]
     },
     "execution_count": 292,
     "metadata": {},
     "output_type": "execute_result"
    }
   ],
   "source": [
    "mts"
   ]
  },
  {
   "cell_type": "code",
   "execution_count": 293,
   "metadata": {},
   "outputs": [
    {
     "data": {
      "text/html": [
       "<div>\n",
       "<style scoped>\n",
       "    .dataframe tbody tr th:only-of-type {\n",
       "        vertical-align: middle;\n",
       "    }\n",
       "\n",
       "    .dataframe tbody tr th {\n",
       "        vertical-align: top;\n",
       "    }\n",
       "\n",
       "    .dataframe thead th {\n",
       "        text-align: right;\n",
       "    }\n",
       "</style>\n",
       "<table border=\"1\" class=\"dataframe\">\n",
       "  <thead>\n",
       "    <tr style=\"text-align: right;\">\n",
       "      <th></th>\n",
       "      <th>Dtheta</th>\n",
       "    </tr>\n",
       "  </thead>\n",
       "  <tbody>\n",
       "    <tr>\n",
       "      <th>0</th>\n",
       "      <td>0.069345</td>\n",
       "    </tr>\n",
       "    <tr>\n",
       "      <th>1</th>\n",
       "      <td>-0.066756</td>\n",
       "    </tr>\n",
       "    <tr>\n",
       "      <th>2</th>\n",
       "      <td>0.052554</td>\n",
       "    </tr>\n",
       "    <tr>\n",
       "      <th>3</th>\n",
       "      <td>-0.073131</td>\n",
       "    </tr>\n",
       "    <tr>\n",
       "      <th>4</th>\n",
       "      <td>0.071993</td>\n",
       "    </tr>\n",
       "    <tr>\n",
       "      <th>5</th>\n",
       "      <td>0.040411</td>\n",
       "    </tr>\n",
       "    <tr>\n",
       "      <th>6</th>\n",
       "      <td>-0.112244</td>\n",
       "    </tr>\n",
       "    <tr>\n",
       "      <th>7</th>\n",
       "      <td>-0.001602</td>\n",
       "    </tr>\n",
       "    <tr>\n",
       "      <th>8</th>\n",
       "      <td>0.111935</td>\n",
       "    </tr>\n",
       "    <tr>\n",
       "      <th>9</th>\n",
       "      <td>-0.125225</td>\n",
       "    </tr>\n",
       "    <tr>\n",
       "      <th>10</th>\n",
       "      <td>0.096709</td>\n",
       "    </tr>\n",
       "    <tr>\n",
       "      <th>11</th>\n",
       "      <td>-0.093069</td>\n",
       "    </tr>\n",
       "    <tr>\n",
       "      <th>12</th>\n",
       "      <td>0.015926</td>\n",
       "    </tr>\n",
       "    <tr>\n",
       "      <th>13</th>\n",
       "      <td>-0.112158</td>\n",
       "    </tr>\n",
       "    <tr>\n",
       "      <th>14</th>\n",
       "      <td>0.039380</td>\n",
       "    </tr>\n",
       "    <tr>\n",
       "      <th>15</th>\n",
       "      <td>-0.064801</td>\n",
       "    </tr>\n",
       "    <tr>\n",
       "      <th>16</th>\n",
       "      <td>0.000584</td>\n",
       "    </tr>\n",
       "    <tr>\n",
       "      <th>17</th>\n",
       "      <td>0.087069</td>\n",
       "    </tr>\n",
       "    <tr>\n",
       "      <th>18</th>\n",
       "      <td>-0.143401</td>\n",
       "    </tr>\n",
       "    <tr>\n",
       "      <th>19</th>\n",
       "      <td>-0.009682</td>\n",
       "    </tr>\n",
       "    <tr>\n",
       "      <th>20</th>\n",
       "      <td>0.053075</td>\n",
       "    </tr>\n",
       "    <tr>\n",
       "      <th>21</th>\n",
       "      <td>-0.019841</td>\n",
       "    </tr>\n",
       "    <tr>\n",
       "      <th>22</th>\n",
       "      <td>0.056200</td>\n",
       "    </tr>\n",
       "    <tr>\n",
       "      <th>23</th>\n",
       "      <td>0.028251</td>\n",
       "    </tr>\n",
       "    <tr>\n",
       "      <th>24</th>\n",
       "      <td>-0.060205</td>\n",
       "    </tr>\n",
       "    <tr>\n",
       "      <th>25</th>\n",
       "      <td>0.043154</td>\n",
       "    </tr>\n",
       "    <tr>\n",
       "      <th>26</th>\n",
       "      <td>-0.038751</td>\n",
       "    </tr>\n",
       "    <tr>\n",
       "      <th>27</th>\n",
       "      <td>-0.010550</td>\n",
       "    </tr>\n",
       "    <tr>\n",
       "      <th>28</th>\n",
       "      <td>0.035884</td>\n",
       "    </tr>\n",
       "    <tr>\n",
       "      <th>29</th>\n",
       "      <td>-0.000321</td>\n",
       "    </tr>\n",
       "    <tr>\n",
       "      <th>...</th>\n",
       "      <td>...</td>\n",
       "    </tr>\n",
       "    <tr>\n",
       "      <th>46</th>\n",
       "      <td>0.059425</td>\n",
       "    </tr>\n",
       "    <tr>\n",
       "      <th>47</th>\n",
       "      <td>-0.026928</td>\n",
       "    </tr>\n",
       "    <tr>\n",
       "      <th>48</th>\n",
       "      <td>0.090781</td>\n",
       "    </tr>\n",
       "    <tr>\n",
       "      <th>49</th>\n",
       "      <td>0.063544</td>\n",
       "    </tr>\n",
       "    <tr>\n",
       "      <th>50</th>\n",
       "      <td>0.042346</td>\n",
       "    </tr>\n",
       "    <tr>\n",
       "      <th>51</th>\n",
       "      <td>0.135650</td>\n",
       "    </tr>\n",
       "    <tr>\n",
       "      <th>52</th>\n",
       "      <td>-0.018476</td>\n",
       "    </tr>\n",
       "    <tr>\n",
       "      <th>53</th>\n",
       "      <td>0.039805</td>\n",
       "    </tr>\n",
       "    <tr>\n",
       "      <th>54</th>\n",
       "      <td>-0.026679</td>\n",
       "    </tr>\n",
       "    <tr>\n",
       "      <th>55</th>\n",
       "      <td>-0.115709</td>\n",
       "    </tr>\n",
       "    <tr>\n",
       "      <th>56</th>\n",
       "      <td>-0.116325</td>\n",
       "    </tr>\n",
       "    <tr>\n",
       "      <th>57</th>\n",
       "      <td>-0.040302</td>\n",
       "    </tr>\n",
       "    <tr>\n",
       "      <th>58</th>\n",
       "      <td>-0.049523</td>\n",
       "    </tr>\n",
       "    <tr>\n",
       "      <th>59</th>\n",
       "      <td>0.114730</td>\n",
       "    </tr>\n",
       "    <tr>\n",
       "      <th>60</th>\n",
       "      <td>0.126681</td>\n",
       "    </tr>\n",
       "    <tr>\n",
       "      <th>61</th>\n",
       "      <td>0.039290</td>\n",
       "    </tr>\n",
       "    <tr>\n",
       "      <th>62</th>\n",
       "      <td>-0.128394</td>\n",
       "    </tr>\n",
       "    <tr>\n",
       "      <th>63</th>\n",
       "      <td>-0.022592</td>\n",
       "    </tr>\n",
       "    <tr>\n",
       "      <th>64</th>\n",
       "      <td>0.056769</td>\n",
       "    </tr>\n",
       "    <tr>\n",
       "      <th>65</th>\n",
       "      <td>0.035817</td>\n",
       "    </tr>\n",
       "    <tr>\n",
       "      <th>66</th>\n",
       "      <td>-0.103855</td>\n",
       "    </tr>\n",
       "    <tr>\n",
       "      <th>67</th>\n",
       "      <td>0.024514</td>\n",
       "    </tr>\n",
       "    <tr>\n",
       "      <th>68</th>\n",
       "      <td>0.130083</td>\n",
       "    </tr>\n",
       "    <tr>\n",
       "      <th>69</th>\n",
       "      <td>0.054873</td>\n",
       "    </tr>\n",
       "    <tr>\n",
       "      <th>70</th>\n",
       "      <td>0.111507</td>\n",
       "    </tr>\n",
       "    <tr>\n",
       "      <th>71</th>\n",
       "      <td>-0.055722</td>\n",
       "    </tr>\n",
       "    <tr>\n",
       "      <th>72</th>\n",
       "      <td>0.129996</td>\n",
       "    </tr>\n",
       "    <tr>\n",
       "      <th>73</th>\n",
       "      <td>-0.057756</td>\n",
       "    </tr>\n",
       "    <tr>\n",
       "      <th>74</th>\n",
       "      <td>0.156813</td>\n",
       "    </tr>\n",
       "    <tr>\n",
       "      <th>75</th>\n",
       "      <td>0.089167</td>\n",
       "    </tr>\n",
       "  </tbody>\n",
       "</table>\n",
       "<p>76 rows × 1 columns</p>\n",
       "</div>"
      ],
      "text/plain": [
       "      Dtheta\n",
       "0   0.069345\n",
       "1  -0.066756\n",
       "2   0.052554\n",
       "3  -0.073131\n",
       "4   0.071993\n",
       "5   0.040411\n",
       "6  -0.112244\n",
       "7  -0.001602\n",
       "8   0.111935\n",
       "9  -0.125225\n",
       "10  0.096709\n",
       "11 -0.093069\n",
       "12  0.015926\n",
       "13 -0.112158\n",
       "14  0.039380\n",
       "15 -0.064801\n",
       "16  0.000584\n",
       "17  0.087069\n",
       "18 -0.143401\n",
       "19 -0.009682\n",
       "20  0.053075\n",
       "21 -0.019841\n",
       "22  0.056200\n",
       "23  0.028251\n",
       "24 -0.060205\n",
       "25  0.043154\n",
       "26 -0.038751\n",
       "27 -0.010550\n",
       "28  0.035884\n",
       "29 -0.000321\n",
       "..       ...\n",
       "46  0.059425\n",
       "47 -0.026928\n",
       "48  0.090781\n",
       "49  0.063544\n",
       "50  0.042346\n",
       "51  0.135650\n",
       "52 -0.018476\n",
       "53  0.039805\n",
       "54 -0.026679\n",
       "55 -0.115709\n",
       "56 -0.116325\n",
       "57 -0.040302\n",
       "58 -0.049523\n",
       "59  0.114730\n",
       "60  0.126681\n",
       "61  0.039290\n",
       "62 -0.128394\n",
       "63 -0.022592\n",
       "64  0.056769\n",
       "65  0.035817\n",
       "66 -0.103855\n",
       "67  0.024514\n",
       "68  0.130083\n",
       "69  0.054873\n",
       "70  0.111507\n",
       "71 -0.055722\n",
       "72  0.129996\n",
       "73 -0.057756\n",
       "74  0.156813\n",
       "75  0.089167\n",
       "\n",
       "[76 rows x 1 columns]"
      ]
     },
     "execution_count": 293,
     "metadata": {},
     "output_type": "execute_result"
    }
   ],
   "source": [
    "mtwdata"
   ]
  },
  {
   "cell_type": "code",
   "execution_count": 298,
   "metadata": {},
   "outputs": [],
   "source": [
    "mts = pd.read_csv('mt_paths.txt', names=['mt','no','x','y','th'], delim_whitespace=True)\n",
    "mts = mts[0:1000]\n",
    "\n",
    "#os.remove('mtwiggle.csv')\n",
    "\n",
    "df = mts; a = 0; b = 1\n",
    "\n",
    "while b<1000:\n",
    "    xi = df.loc[b,'x'] - df.loc[a,'x']\n",
    "    yi = df.loc[b,'y'] - df.loc[a,'y']\n",
    "    den = np.sqrt((xi**2)+(yi**2))\n",
    "    n = np.arccos(xi/den)\n",
    "    with open('mtwiggle.csv','a') as fd:\n",
    "        writer = csv.writer(fd)\n",
    "        writer.writerow([n])\n",
    "    a = a+1; b = b+1"
   ]
  },
  {
   "cell_type": "code",
   "execution_count": 305,
   "metadata": {},
   "outputs": [],
   "source": [
    "mtwdata = pd.read_csv('mtwiggle.csv', names=['th'])\n",
    "\n",
    "a=0; b=1\n",
    "\n",
    "while b<998:\n",
    "    Dth = (mtwdata.loc[b,'th'])-(mtwdata.loc[a,'th'])\n",
    "    Dth = Dth**2\n",
    "    with open('Dth.csv','a') as fd:\n",
    "        writer = csv.writer(fd)\n",
    "        writer.writerow([Dth])\n",
    "    a = a+1; b = b+1\n",
    "    "
   ]
  },
  {
   "cell_type": "code",
   "execution_count": 307,
   "metadata": {},
   "outputs": [
    {
     "data": {
      "text/plain": [
       "Dth    111.855583\n",
       "dtype: float64"
      ]
     },
     "execution_count": 307,
     "metadata": {},
     "output_type": "execute_result"
    }
   ],
   "source": [
    "Dth = pd.read_csv('Dth.csv',names=['Dth'])\n",
    "Lp = (0.85*0.1)/(Dth.mean())\n",
    "Lp"
   ]
  },
  {
   "cell_type": "code",
   "execution_count": null,
   "metadata": {},
   "outputs": [],
   "source": []
  },
  {
   "cell_type": "code",
   "execution_count": 308,
   "metadata": {},
   "outputs": [],
   "source": [
    "mtwdata = pd.read_csv('mtwiggle.csv', names=['th'])\n",
    "\n",
    "a=0; b=1\n",
    "\n",
    "while b<998:\n",
    "    Dth = (mtwdata.loc[b,'th'])-(mtwdata.loc[a,'th'])\n",
    "    Dth1 = np.log(np.cos(Dth))\n",
    "    with open('Dth1.csv','a') as fd:\n",
    "        writer = csv.writer(fd)\n",
    "        writer.writerow([Dth1])\n",
    "    a = a+1; b = b+1\n",
    "    "
   ]
  },
  {
   "cell_type": "code",
   "execution_count": 324,
   "metadata": {},
   "outputs": [
    {
     "data": {
      "text/plain": [
       "[<matplotlib.lines.Line2D at 0x7fda8654f438>]"
      ]
     },
     "execution_count": 324,
     "metadata": {},
     "output_type": "execute_result"
    },
    {
     "data": {
      "image/png": "[encoded data removed]",
      "text/plain": [
       "<Figure size 432x288 with 1 Axes>"
      ]
     },
     "metadata": {
      "needs_background": "light"
     },
     "output_type": "display_data"
    }
   ],
   "source": [
    "Dth1 = pd.read_csv('Dth1.csv',names=['Dth1'])\n",
    "s = np.around(np.linspace(1,996,997,endpoint=True),decimals=1)\n",
    "#s = s.reshape(997,1)\n",
    "plt.plot(Dth1)"
   ]
  },
  {
   "cell_type": "code",
   "execution_count": null,
   "metadata": {},
   "outputs": [],
   "source": []
  },
  {
   "cell_type": "code",
   "execution_count": null,
   "metadata": {},
   "outputs": [],
   "source": []
  },
  {
   "cell_type": "code",
   "execution_count": null,
   "metadata": {},
   "outputs": [],
   "source": []
  },
  {
   "cell_type": "code",
   "execution_count": 294,
   "metadata": {},
   "outputs": [],
   "source": [
    "try:\n",
    "    os.remove('ub.csv')\n",
    "except(OSError,RuntimeError,TypeError,NameError):\n",
    "    pass\n",
    "\n",
    "p = 0; q = 1; #df = df07\n",
    "#df = df.reset_index(drop=True)\n",
    "df = mts #conf07_df\n",
    "while q<1000:\n",
    "    x0 = df.loc[p,'x']\n",
    "    x1 = df.loc[q,'x']\n",
    "    y0 = df.loc[p,'y']\n",
    "    y1 = df.loc[q,'y']\n",
    "    u = np.array([(x1-x0),(y1-y0)])\n",
    "    ub = np.true_divide(u,np.sqrt((x1-x0)**2 + (y1-y0)**2))\n",
    "    with open('ub.csv','a') as fd:\n",
    "        writer = csv.writer(fd)\n",
    "        writer.writerow(ub)\n",
    "    p = p+1; q = q+1\n",
    "ub = pd.read_csv('ub.csv', names=['dx','dy'])"
   ]
  },
  {
   "cell_type": "code",
   "execution_count": 295,
   "metadata": {},
   "outputs": [],
   "source": [
    "\n",
    "try:\n",
    "    os.remove('ds1.csv')\n",
    "    os.remove('Ds.csv')\n",
    "except(OSError,RuntimeError,TypeError,NameError):\n",
    "    pass\n",
    "\n",
    "i = 0; ii = 0; il = 998; s=1; no = 1\n",
    "\n",
    "while il>0:\n",
    "    while i<il:\n",
    "        ds1 = np.dot(ub.loc[i],ub.loc[(i+ii)])\n",
    "        with open('ds'+str(no)+'.csv','a') as fd:\n",
    "            writer = csv.writer(fd)\n",
    "            writer.writerow([ds1])\n",
    "        i=i+1\n",
    "        #print('i = ',i)\n",
    "    ds = pd.read_csv('ds'+str(no)+'.csv',names=['ds'])\n",
    "    Ds = float(ds.mean())\n",
    "    rows = np.array([s,Ds])\n",
    "    with open('Ds.csv','a') as fd:\n",
    "        writer = csv.writer(fd)\n",
    "        writer.writerow(rows)\n",
    "    i=0; ii=ii+1; il=il-1; s=s+1; no=no+1\n",
    "    #print('il = ',il)\n",
    "    #os.remove('ds1.csv')\n",
    "Ds = pd.read_csv('Ds.csv',names=['s','Ds'])"
   ]
  },
  {
   "cell_type": "code",
   "execution_count": 296,
   "metadata": {},
   "outputs": [
    {
     "data": {
      "text/plain": [
       "<matplotlib.collections.PathCollection at 0x7fda866ea320>"
      ]
     },
     "execution_count": 296,
     "metadata": {},
     "output_type": "execute_result"
    },
    {
     "data": {
      "image/png": "[encoded data removed]",
      "text/plain": [
       "<Figure size 432x288 with 1 Axes>"
      ]
     },
     "metadata": {
      "needs_background": "light"
     },
     "output_type": "display_data"
    }
   ],
   "source": [
    "plt.scatter(Ds['s'],Ds['Ds'],facecolors='none',edgecolors='g')"
   ]
  },
  {
   "cell_type": "code",
   "execution_count": 326,
   "metadata": {},
   "outputs": [
    {
     "data": {
      "text/plain": [
       "<matplotlib.collections.PathCollection at 0x7fda86491438>"
      ]
     },
     "execution_count": 326,
     "metadata": {},
     "output_type": "execute_result"
    },
    {
     "data": {
      "image/png": "[encoded data removed]",
      "text/plain": [
       "<Figure size 432x288 with 1 Axes>"
      ]
     },
     "metadata": {
      "needs_background": "light"
     },
     "output_type": "display_data"
    }
   ],
   "source": [
    "xl = Ds['s']\n",
    "yl = np.log(Ds['Ds'])\n",
    "plt.scatter(xl,yl,facecolors='none',edgecolors='g')"
   ]
  },
  {
   "cell_type": "code",
   "execution_count": 329,
   "metadata": {},
   "outputs": [
    {
     "name": "stdout",
     "output_type": "stream",
     "text": [
      "nan nan\n"
     ]
    }
   ],
   "source": [
    "m=0; c=0\n",
    "\n",
    "L=0.0001; epochs=1000\n",
    "n=float(len(xl))\n",
    "\n",
    "for i in range(epochs):\n",
    "    ypred=(m*xl)+c\n",
    "    Dm=(-2/n)*sum(xl*(yl-ypred))\n",
    "    Dc=(-2/n)*sum(yl-ypred)\n",
    "    m=m-(L*Dm)\n",
    "    c=c-(L*Dc)\n",
    "print(m,c)"
   ]
  },
  {
   "cell_type": "code",
   "execution_count": null,
   "metadata": {},
   "outputs": [],
   "source": []
  },
  {
   "cell_type": "code",
   "execution_count": null,
   "metadata": {},
   "outputs": [],
   "source": []
  },
  {
   "cell_type": "code",
   "execution_count": null,
   "metadata": {},
   "outputs": [],
   "source": []
  },
  {
   "cell_type": "code",
   "execution_count": 252,
   "metadata": {},
   "outputs": [
    {
     "data": {
      "text/plain": [
       "[<matplotlib.lines.Line2D at 0x7fda87516eb8>]"
      ]
     },
     "execution_count": 252,
     "metadata": {},
     "output_type": "execute_result"
    },
    {
     "data": {
      "image/png": "[encoded data removed]",
      "text/plain": [
       "<Figure size 432x288 with 1 Axes>"
      ]
     },
     "metadata": {
      "needs_background": "light"
     },
     "output_type": "display_data"
    }
   ],
   "source": [
    "plt.plot(conf07_df['x'],conf07_df['y'])"
   ]
  },
  {
   "cell_type": "code",
   "execution_count": 256,
   "metadata": {},
   "outputs": [
    {
     "data": {
      "text/plain": [
       "array([[<matplotlib.axes._subplots.AxesSubplot object at 0x7fda8723f828>]],\n",
       "      dtype=object)"
      ]
     },
     "execution_count": 256,
     "metadata": {},
     "output_type": "execute_result"
    },
    {
     "data": {
      "image/png": "[encoded data removed]",
      "text/plain": [
       "<Figure size 432x288 with 1 Axes>"
      ]
     },
     "metadata": {
      "needs_background": "light"
     },
     "output_type": "display_data"
    }
   ],
   "source": [
    "ds = pd.read_csv('ds10.csv',names=['ds'])\n",
    "ds.hist(bins=30)"
   ]
  },
  {
   "cell_type": "code",
   "execution_count": 257,
   "metadata": {},
   "outputs": [
    {
     "data": {
      "text/plain": [
       "array([[<matplotlib.axes._subplots.AxesSubplot object at 0x7fda87175390>]],\n",
       "      dtype=object)"
      ]
     },
     "execution_count": 257,
     "metadata": {},
     "output_type": "execute_result"
    },
    {
     "data": {
      "image/png": "[encoded data removed]",
      "text/plain": [
       "<Figure size 432x288 with 1 Axes>"
      ]
     },
     "metadata": {
      "needs_background": "light"
     },
     "output_type": "display_data"
    }
   ],
   "source": [
    "ds = pd.read_csv('ds30.csv',names=['ds'])\n",
    "ds.hist(bins=30)"
   ]
  },
  {
   "cell_type": "code",
   "execution_count": 258,
   "metadata": {},
   "outputs": [
    {
     "data": {
      "text/plain": [
       "array([[<matplotlib.axes._subplots.AxesSubplot object at 0x7fda87127be0>]],\n",
       "      dtype=object)"
      ]
     },
     "execution_count": 258,
     "metadata": {},
     "output_type": "execute_result"
    },
    {
     "data": {
      "image/png": "[encoded data removed]",
      "text/plain": [
       "<Figure size 432x288 with 1 Axes>"
      ]
     },
     "metadata": {
      "needs_background": "light"
     },
     "output_type": "display_data"
    }
   ],
   "source": [
    "ds = pd.read_csv('ds50.csv',names=['ds'])\n",
    "ds.hist(bins=30)"
   ]
  },
  {
   "cell_type": "code",
   "execution_count": 259,
   "metadata": {},
   "outputs": [
    {
     "data": {
      "text/plain": [
       "array([[<matplotlib.axes._subplots.AxesSubplot object at 0x7fda8702df28>]],\n",
       "      dtype=object)"
      ]
     },
     "execution_count": 259,
     "metadata": {},
     "output_type": "execute_result"
    },
    {
     "data": {
      "image/png": "[encoded data removed]",
      "text/plain": [
       "<Figure size 432x288 with 1 Axes>"
      ]
     },
     "metadata": {
      "needs_background": "light"
     },
     "output_type": "display_data"
    }
   ],
   "source": [
    "ds = pd.read_csv('ds100.csv',names=['ds'])\n",
    "ds.hist(bins=30)"
   ]
  },
  {
   "cell_type": "code",
   "execution_count": null,
   "metadata": {},
   "outputs": [],
   "source": []
  },
  {
   "cell_type": "code",
   "execution_count": 266,
   "metadata": {},
   "outputs": [],
   "source": [
    "try:\n",
    "    os.remove('ub.csv')\n",
    "except(OSError,RuntimeError,TypeError,NameError):\n",
    "    pass\n",
    "\n",
    "p = 0; q = 1; df = df07\n",
    "df = df.reset_index(drop=True)\n",
    "#df = conf07_df\n",
    "while q<30:\n",
    "    x0 = df.loc[p,'x']\n",
    "    x1 = df.loc[q,'x']\n",
    "    y0 = df.loc[p,'y']\n",
    "    y1 = df.loc[q,'y']\n",
    "    u = np.array([(x1-x0),(y1-y0)])\n",
    "    ub = np.true_divide(u,np.sqrt((x1-x0)**2 + (y1-y0)**2))\n",
    "    with open('ub.csv','a') as fd:\n",
    "        writer = csv.writer(fd)\n",
    "        writer.writerow(ub)\n",
    "    p = p+1; q = q+1\n",
    "ub = pd.read_csv('ub.csv', names=['dx','dy'])"
   ]
  },
  {
   "cell_type": "code",
   "execution_count": 267,
   "metadata": {},
   "outputs": [],
   "source": [
    "try:\n",
    "    os.remove('ds1.csv')\n",
    "    os.remove('Ds.csv')\n",
    "except(OSError,RuntimeError,TypeError,NameError):\n",
    "    pass\n",
    "\n",
    "i = 0; ii = 0; il = 28; s=0; no = 1\n",
    "\n",
    "while il>0:\n",
    "    while i<il:\n",
    "        ds1 = np.dot(ub.loc[i],ub.loc[(i+ii)])\n",
    "        with open('ds'+str(no)+'.csv','a') as fd:\n",
    "            writer = csv.writer(fd)\n",
    "            writer.writerow([ds1])\n",
    "        i=i+1\n",
    "        #print('i = ',i)\n",
    "    ds = pd.read_csv('ds'+str(no)+'.csv',names=['ds'])\n",
    "    Ds = float(ds.mean())\n",
    "    rows = np.array([s,Ds])\n",
    "    with open('Ds.csv','a') as fd:\n",
    "        writer = csv.writer(fd)\n",
    "        writer.writerow(rows)\n",
    "    i=0; ii=ii+1; il=il-1; s=s+1; no=no+1\n",
    "    #print('il = ',il)\n",
    "    #os.remove('ds1.csv')\n",
    "Ds = pd.read_csv('Ds.csv',names=['s','Ds'])"
   ]
  },
  {
   "cell_type": "code",
   "execution_count": 268,
   "metadata": {},
   "outputs": [
    {
     "data": {
      "text/plain": [
       "<matplotlib.collections.PathCollection at 0x7fda86d087b8>"
      ]
     },
     "execution_count": 268,
     "metadata": {},
     "output_type": "execute_result"
    },
    {
     "data": {
      "image/png": "[encoded data removed]",
      "text/plain": [
       "<Figure size 432x288 with 1 Axes>"
      ]
     },
     "metadata": {
      "needs_background": "light"
     },
     "output_type": "display_data"
    }
   ],
   "source": [
    "plt.scatter(Ds['s'],Ds['Ds'],facecolors='none',edgecolors='g')"
   ]
  },
  {
   "cell_type": "code",
   "execution_count": 269,
   "metadata": {},
   "outputs": [
    {
     "data": {
      "text/plain": [
       "array([[<matplotlib.axes._subplots.AxesSubplot object at 0x7fda86cbf5f8>]],\n",
       "      dtype=object)"
      ]
     },
     "execution_count": 269,
     "metadata": {},
     "output_type": "execute_result"
    },
    {
     "data": {
      "image/png": "[encoded data removed]",
      "text/plain": [
       "<Figure size 432x288 with 1 Axes>"
      ]
     },
     "metadata": {
      "needs_background": "light"
     },
     "output_type": "display_data"
    }
   ],
   "source": [
    "ds = pd.read_csv('ds1.csv',names=['ds'])\n",
    "ds.hist(bins=30)"
   ]
  },
  {
   "cell_type": "code",
   "execution_count": 272,
   "metadata": {},
   "outputs": [
    {
     "data": {
      "text/plain": [
       "ds    0.746208\n",
       "dtype: float64"
      ]
     },
     "execution_count": 272,
     "metadata": {},
     "output_type": "execute_result"
    },
    {
     "data": {
      "image/png": "[encoded data removed]",
      "text/plain": [
       "<Figure size 432x288 with 1 Axes>"
      ]
     },
     "metadata": {
      "needs_background": "light"
     },
     "output_type": "display_data"
    }
   ],
   "source": [
    "ds = pd.read_csv('ds2.csv',names=['ds'])\n",
    "ds.hist(bins=30)\n",
    "ds.mean()"
   ]
  },
  {
   "cell_type": "code",
   "execution_count": 273,
   "metadata": {},
   "outputs": [
    {
     "data": {
      "text/plain": [
       "ds    0.772372\n",
       "dtype: float64"
      ]
     },
     "execution_count": 273,
     "metadata": {},
     "output_type": "execute_result"
    },
    {
     "data": {
      "image/png": "[encoded data removed]",
      "text/plain": [
       "<Figure size 432x288 with 1 Axes>"
      ]
     },
     "metadata": {
      "needs_background": "light"
     },
     "output_type": "display_data"
    }
   ],
   "source": [
    "ds = pd.read_csv('ds3.csv',names=['ds'])\n",
    "ds.hist(bins=30)\n",
    "ds.mean()"
   ]
  },
  {
   "cell_type": "code",
   "execution_count": null,
   "metadata": {},
   "outputs": [],
   "source": []
  },
  {
   "cell_type": "code",
   "execution_count": null,
   "metadata": {},
   "outputs": [],
   "source": []
  },
  {
   "cell_type": "code",
   "execution_count": 212,
   "metadata": {},
   "outputs": [],
   "source": [
    "try:\n",
    "    os.remove('ub_.csv')\n",
    "except(OSError,RuntimeError,TypeError,NameError):\n",
    "    pass\n",
    "\n",
    "p = 0; q = 1; df = df07\n",
    "df = df.reset_index(drop=True)\n",
    "while q<30:\n",
    "    x0 = df.loc[p,'x']\n",
    "    x1 = df.loc[q,'x']\n",
    "    y0 = df.loc[p,'y']\n",
    "    y1 = df.loc[q,'y']\n",
    "    ub = np.arccos(np.true_divide((x1-x0),np.sqrt((x1-x0)**2 + (y1-y0)**2)))\n",
    "    with open('ub_.csv','a') as fd:\n",
    "        writer = csv.writer(fd)\n",
    "        writer.writerow([ub])\n",
    "    p = p+1; q = q+1\n",
    "ub_ = pd.read_csv('ub_.csv', names=['dth'])"
   ]
  },
  {
   "cell_type": "code",
   "execution_count": 223,
   "metadata": {},
   "outputs": [
    {
     "data": {
      "text/html": [
       "<div>\n",
       "<style scoped>\n",
       "    .dataframe tbody tr th:only-of-type {\n",
       "        vertical-align: middle;\n",
       "    }\n",
       "\n",
       "    .dataframe tbody tr th {\n",
       "        vertical-align: top;\n",
       "    }\n",
       "\n",
       "    .dataframe thead th {\n",
       "        text-align: right;\n",
       "    }\n",
       "</style>\n",
       "<table border=\"1\" class=\"dataframe\">\n",
       "  <thead>\n",
       "    <tr style=\"text-align: right;\">\n",
       "      <th></th>\n",
       "      <th>dth</th>\n",
       "    </tr>\n",
       "  </thead>\n",
       "  <tbody>\n",
       "    <tr>\n",
       "      <th>0</th>\n",
       "      <td>0.257041</td>\n",
       "    </tr>\n",
       "    <tr>\n",
       "      <th>1</th>\n",
       "      <td>0.081030</td>\n",
       "    </tr>\n",
       "    <tr>\n",
       "      <th>2</th>\n",
       "      <td>0.165937</td>\n",
       "    </tr>\n",
       "    <tr>\n",
       "      <th>3</th>\n",
       "      <td>0.563298</td>\n",
       "    </tr>\n",
       "    <tr>\n",
       "      <th>4</th>\n",
       "      <td>0.379304</td>\n",
       "    </tr>\n",
       "    <tr>\n",
       "      <th>5</th>\n",
       "      <td>0.119941</td>\n",
       "    </tr>\n",
       "    <tr>\n",
       "      <th>6</th>\n",
       "      <td>0.199355</td>\n",
       "    </tr>\n",
       "    <tr>\n",
       "      <th>7</th>\n",
       "      <td>0.432178</td>\n",
       "    </tr>\n",
       "    <tr>\n",
       "      <th>8</th>\n",
       "      <td>0.540474</td>\n",
       "    </tr>\n",
       "    <tr>\n",
       "      <th>9</th>\n",
       "      <td>1.105394</td>\n",
       "    </tr>\n",
       "    <tr>\n",
       "      <th>10</th>\n",
       "      <td>0.009676</td>\n",
       "    </tr>\n",
       "    <tr>\n",
       "      <th>11</th>\n",
       "      <td>0.090435</td>\n",
       "    </tr>\n",
       "    <tr>\n",
       "      <th>12</th>\n",
       "      <td>0.757465</td>\n",
       "    </tr>\n",
       "    <tr>\n",
       "      <th>13</th>\n",
       "      <td>0.311967</td>\n",
       "    </tr>\n",
       "    <tr>\n",
       "      <th>14</th>\n",
       "      <td>0.326591</td>\n",
       "    </tr>\n",
       "    <tr>\n",
       "      <th>15</th>\n",
       "      <td>1.517416</td>\n",
       "    </tr>\n",
       "    <tr>\n",
       "      <th>16</th>\n",
       "      <td>1.289884</td>\n",
       "    </tr>\n",
       "    <tr>\n",
       "      <th>17</th>\n",
       "      <td>1.163602</td>\n",
       "    </tr>\n",
       "    <tr>\n",
       "      <th>18</th>\n",
       "      <td>0.551617</td>\n",
       "    </tr>\n",
       "    <tr>\n",
       "      <th>19</th>\n",
       "      <td>1.791809</td>\n",
       "    </tr>\n",
       "    <tr>\n",
       "      <th>20</th>\n",
       "      <td>0.539002</td>\n",
       "    </tr>\n",
       "    <tr>\n",
       "      <th>21</th>\n",
       "      <td>1.106068</td>\n",
       "    </tr>\n",
       "    <tr>\n",
       "      <th>22</th>\n",
       "      <td>0.996496</td>\n",
       "    </tr>\n",
       "    <tr>\n",
       "      <th>23</th>\n",
       "      <td>0.054432</td>\n",
       "    </tr>\n",
       "    <tr>\n",
       "      <th>24</th>\n",
       "      <td>0.069070</td>\n",
       "    </tr>\n",
       "    <tr>\n",
       "      <th>25</th>\n",
       "      <td>0.139005</td>\n",
       "    </tr>\n",
       "    <tr>\n",
       "      <th>26</th>\n",
       "      <td>0.087036</td>\n",
       "    </tr>\n",
       "    <tr>\n",
       "      <th>27</th>\n",
       "      <td>1.285471</td>\n",
       "    </tr>\n",
       "    <tr>\n",
       "      <th>28</th>\n",
       "      <td>0.973404</td>\n",
       "    </tr>\n",
       "  </tbody>\n",
       "</table>\n",
       "</div>"
      ],
      "text/plain": [
       "         dth\n",
       "0   0.257041\n",
       "1   0.081030\n",
       "2   0.165937\n",
       "3   0.563298\n",
       "4   0.379304\n",
       "5   0.119941\n",
       "6   0.199355\n",
       "7   0.432178\n",
       "8   0.540474\n",
       "9   1.105394\n",
       "10  0.009676\n",
       "11  0.090435\n",
       "12  0.757465\n",
       "13  0.311967\n",
       "14  0.326591\n",
       "15  1.517416\n",
       "16  1.289884\n",
       "17  1.163602\n",
       "18  0.551617\n",
       "19  1.791809\n",
       "20  0.539002\n",
       "21  1.106068\n",
       "22  0.996496\n",
       "23  0.054432\n",
       "24  0.069070\n",
       "25  0.139005\n",
       "26  0.087036\n",
       "27  1.285471\n",
       "28  0.973404"
      ]
     },
     "execution_count": 223,
     "metadata": {},
     "output_type": "execute_result"
    }
   ],
   "source": [
    "ub_"
   ]
  },
  {
   "cell_type": "code",
   "execution_count": null,
   "metadata": {},
   "outputs": [],
   "source": [
    "try:\n",
    "    os.remove('ds1_.csv')\n",
    "    os.remove('Ds_.csv')\n",
    "except(OSError,RuntimeError,TypeError,NameError):\n",
    "    pass\n",
    "\n",
    "i = 0; ii = 0; il = 28; s=1\n",
    "\n",
    "while il>0:\n",
    "    while i<il:\n",
    "        ds1 = np.cos(ub_.loc[i]-ub_.loc[(i+ii)]); ds1 = float(ds1)\n",
    "        with open('ds1_.csv','a') as fd:\n",
    "            writer = csv.writer(fd)\n",
    "            writer.writerow([ds1])\n",
    "        i=i+1\n",
    "        #print('i = ',i)\n",
    "    ds1 = pd.read_csv('ds1_.csv',names=['ds1'])\n",
    "    Ds = ds1.mean()\n",
    "    rows = np.array([s,Ds])\n",
    "    with open('Ds_.csv','a') as fd:\n",
    "        writer = csv.writer(fd)\n",
    "        writer.writerow(rows)\n",
    "    i=0; ii=ii+1; il=il-1; s=s+1\n",
    "    #print('il = ',il)\n",
    "    os.remove('ds1_.csv')\n",
    "Ds_ = pd.read_csv('Ds_.csv',names=['s','Ds'])"
   ]
  },
  {
   "cell_type": "code",
   "execution_count": 219,
   "metadata": {},
   "outputs": [],
   "source": [
    "try:\n",
    "    os.remove('ds1_.csv')\n",
    "    os.remove('Ds_.csv')\n",
    "except(OSError,RuntimeError,TypeError,NameError):\n",
    "    pass\n",
    "\n",
    "i = 0; ii = 0; il = 28; s=1\n",
    "\n",
    "while il>0:\n",
    "    while i<il:\n",
    "        ds1 = np.cos(ub_.loc[i]-ub_.loc[(i+ii)]); ds1 = float(ds1)\n",
    "        with open('ds1_.csv','a') as fd:\n",
    "            writer = csv.writer(fd)\n",
    "            writer.writerow([ds1])\n",
    "        i=i+1\n",
    "        #print('i = ',i)\n",
    "    ds1 = pd.read_csv('ds1_.csv',names=['ds1'])\n",
    "    Ds = ds1.mean()\n",
    "    rows = np.array([s,Ds])\n",
    "    with open('Ds_.csv','a') as fd:\n",
    "        writer = csv.writer(fd)\n",
    "        writer.writerow(rows)\n",
    "    i=0; ii=ii+1; il=il-1; s=s+1\n",
    "    #print('il = ',il)\n",
    "    os.remove('ds1_.csv')\n",
    "Ds_ = pd.read_csv('Ds_.csv',names=['s','Ds'])"
   ]
  },
  {
   "cell_type": "code",
   "execution_count": 225,
   "metadata": {},
   "outputs": [
    {
     "data": {
      "text/html": [
       "<div>\n",
       "<style scoped>\n",
       "    .dataframe tbody tr th:only-of-type {\n",
       "        vertical-align: middle;\n",
       "    }\n",
       "\n",
       "    .dataframe tbody tr th {\n",
       "        vertical-align: top;\n",
       "    }\n",
       "\n",
       "    .dataframe thead th {\n",
       "        text-align: right;\n",
       "    }\n",
       "</style>\n",
       "<table border=\"1\" class=\"dataframe\">\n",
       "  <thead>\n",
       "    <tr style=\"text-align: right;\">\n",
       "      <th></th>\n",
       "      <th>s</th>\n",
       "      <th>Ds</th>\n",
       "    </tr>\n",
       "  </thead>\n",
       "  <tbody>\n",
       "    <tr>\n",
       "      <th>0</th>\n",
       "      <td>1.0</td>\n",
       "      <td>1.000000</td>\n",
       "    </tr>\n",
       "    <tr>\n",
       "      <th>1</th>\n",
       "      <td>2.0</td>\n",
       "      <td>0.828959</td>\n",
       "    </tr>\n",
       "    <tr>\n",
       "      <th>2</th>\n",
       "      <td>3.0</td>\n",
       "      <td>0.808442</td>\n",
       "    </tr>\n",
       "    <tr>\n",
       "      <th>3</th>\n",
       "      <td>4.0</td>\n",
       "      <td>0.808210</td>\n",
       "    </tr>\n",
       "    <tr>\n",
       "      <th>4</th>\n",
       "      <td>5.0</td>\n",
       "      <td>0.772859</td>\n",
       "    </tr>\n",
       "    <tr>\n",
       "      <th>5</th>\n",
       "      <td>6.0</td>\n",
       "      <td>0.756413</td>\n",
       "    </tr>\n",
       "    <tr>\n",
       "      <th>6</th>\n",
       "      <td>7.0</td>\n",
       "      <td>0.782228</td>\n",
       "    </tr>\n",
       "    <tr>\n",
       "      <th>7</th>\n",
       "      <td>8.0</td>\n",
       "      <td>0.727777</td>\n",
       "    </tr>\n",
       "    <tr>\n",
       "      <th>8</th>\n",
       "      <td>9.0</td>\n",
       "      <td>0.719191</td>\n",
       "    </tr>\n",
       "    <tr>\n",
       "      <th>9</th>\n",
       "      <td>10.0</td>\n",
       "      <td>0.699798</td>\n",
       "    </tr>\n",
       "    <tr>\n",
       "      <th>10</th>\n",
       "      <td>11.0</td>\n",
       "      <td>0.764349</td>\n",
       "    </tr>\n",
       "    <tr>\n",
       "      <th>11</th>\n",
       "      <td>12.0</td>\n",
       "      <td>0.716903</td>\n",
       "    </tr>\n",
       "    <tr>\n",
       "      <th>12</th>\n",
       "      <td>13.0</td>\n",
       "      <td>0.808346</td>\n",
       "    </tr>\n",
       "    <tr>\n",
       "      <th>13</th>\n",
       "      <td>14.0</td>\n",
       "      <td>0.781562</td>\n",
       "    </tr>\n",
       "    <tr>\n",
       "      <th>14</th>\n",
       "      <td>15.0</td>\n",
       "      <td>0.695358</td>\n",
       "    </tr>\n",
       "    <tr>\n",
       "      <th>15</th>\n",
       "      <td>16.0</td>\n",
       "      <td>0.691013</td>\n",
       "    </tr>\n",
       "    <tr>\n",
       "      <th>16</th>\n",
       "      <td>17.0</td>\n",
       "      <td>0.686189</td>\n",
       "    </tr>\n",
       "    <tr>\n",
       "      <th>17</th>\n",
       "      <td>18.0</td>\n",
       "      <td>0.681805</td>\n",
       "    </tr>\n",
       "    <tr>\n",
       "      <th>18</th>\n",
       "      <td>19.0</td>\n",
       "      <td>0.824989</td>\n",
       "    </tr>\n",
       "    <tr>\n",
       "      <th>19</th>\n",
       "      <td>20.0</td>\n",
       "      <td>0.783442</td>\n",
       "    </tr>\n",
       "    <tr>\n",
       "      <th>20</th>\n",
       "      <td>21.0</td>\n",
       "      <td>0.828828</td>\n",
       "    </tr>\n",
       "    <tr>\n",
       "      <th>21</th>\n",
       "      <td>22.0</td>\n",
       "      <td>0.797273</td>\n",
       "    </tr>\n",
       "    <tr>\n",
       "      <th>22</th>\n",
       "      <td>23.0</td>\n",
       "      <td>0.832830</td>\n",
       "    </tr>\n",
       "    <tr>\n",
       "      <th>23</th>\n",
       "      <td>24.0</td>\n",
       "      <td>0.896919</td>\n",
       "    </tr>\n",
       "    <tr>\n",
       "      <th>24</th>\n",
       "      <td>25.0</td>\n",
       "      <td>0.931991</td>\n",
       "    </tr>\n",
       "    <tr>\n",
       "      <th>25</th>\n",
       "      <td>26.0</td>\n",
       "      <td>0.809708</td>\n",
       "    </tr>\n",
       "    <tr>\n",
       "      <th>26</th>\n",
       "      <td>27.0</td>\n",
       "      <td>0.671899</td>\n",
       "    </tr>\n",
       "    <tr>\n",
       "      <th>27</th>\n",
       "      <td>28.0</td>\n",
       "      <td>0.516164</td>\n",
       "    </tr>\n",
       "  </tbody>\n",
       "</table>\n",
       "</div>"
      ],
      "text/plain": [
       "       s        Ds\n",
       "0    1.0  1.000000\n",
       "1    2.0  0.828959\n",
       "2    3.0  0.808442\n",
       "3    4.0  0.808210\n",
       "4    5.0  0.772859\n",
       "5    6.0  0.756413\n",
       "6    7.0  0.782228\n",
       "7    8.0  0.727777\n",
       "8    9.0  0.719191\n",
       "9   10.0  0.699798\n",
       "10  11.0  0.764349\n",
       "11  12.0  0.716903\n",
       "12  13.0  0.808346\n",
       "13  14.0  0.781562\n",
       "14  15.0  0.695358\n",
       "15  16.0  0.691013\n",
       "16  17.0  0.686189\n",
       "17  18.0  0.681805\n",
       "18  19.0  0.824989\n",
       "19  20.0  0.783442\n",
       "20  21.0  0.828828\n",
       "21  22.0  0.797273\n",
       "22  23.0  0.832830\n",
       "23  24.0  0.896919\n",
       "24  25.0  0.931991\n",
       "25  26.0  0.809708\n",
       "26  27.0  0.671899\n",
       "27  28.0  0.516164"
      ]
     },
     "execution_count": 225,
     "metadata": {},
     "output_type": "execute_result"
    }
   ],
   "source": [
    "Ds_"
   ]
  },
  {
   "cell_type": "code",
   "execution_count": 222,
   "metadata": {},
   "outputs": [
    {
     "data": {
      "text/plain": [
       "<matplotlib.collections.PathCollection at 0x7fda87a973c8>"
      ]
     },
     "execution_count": 222,
     "metadata": {},
     "output_type": "execute_result"
    },
    {
     "data": {
      "image/png": "[encoded data removed]",
      "text/plain": [
       "<Figure size 432x288 with 1 Axes>"
      ]
     },
     "metadata": {
      "needs_background": "light"
     },
     "output_type": "display_data"
    }
   ],
   "source": [
    "plt.scatter(Ds_['s'],Ds_['Ds'],facecolors='none',edgecolors='g')"
   ]
  },
  {
   "cell_type": "code",
   "execution_count": 262,
   "metadata": {},
   "outputs": [
    {
     "data": {
      "text/plain": [
       "<matplotlib.axes._subplots.AxesSubplot at 0x7fda86f5ecf8>"
      ]
     },
     "execution_count": 262,
     "metadata": {},
     "output_type": "execute_result"
    },
    {
     "data": {
      "image/png": "[encoded data removed]",
      "text/plain": [
       "<Figure size 432x288 with 1 Axes>"
      ]
     },
     "metadata": {
      "needs_background": "light"
     },
     "output_type": "display_data"
    }
   ],
   "source": [
    "sth = Ds_['Ds']\n",
    "sth.hist(bins=30)"
   ]
  },
  {
   "cell_type": "code",
   "execution_count": null,
   "metadata": {},
   "outputs": [],
   "source": []
  },
  {
   "cell_type": "code",
   "execution_count": null,
   "metadata": {},
   "outputs": [],
   "source": []
  },
  {
   "cell_type": "code",
   "execution_count": null,
   "metadata": {},
   "outputs": [],
   "source": []
  },
  {
   "cell_type": "code",
   "execution_count": 199,
   "metadata": {},
   "outputs": [
    {
     "data": {
      "text/plain": [
       "array([[<matplotlib.axes._subplots.AxesSubplot object at 0x7fda87d04978>]],\n",
       "      dtype=object)"
      ]
     },
     "execution_count": 199,
     "metadata": {},
     "output_type": "execute_result"
    },
    {
     "data": {
      "image/png": "[encoded data removed]",
      "text/plain": [
       "<Figure size 432x288 with 1 Axes>"
      ]
     },
     "metadata": {
      "needs_background": "light"
     },
     "output_type": "display_data"
    }
   ],
   "source": [
    "i = 0; ii = 1; il = 28\n",
    "while i<il:\n",
    "    ds1 = np.dot(ub.loc[i],ub.loc[(i+ii)])\n",
    "    with open('ds1.csv','a') as fd:\n",
    "        writer = csv.writer(fd)\n",
    "        writer.writerow([ds1])\n",
    "    i=i+1\n",
    "ds1 = pd.read_csv('ds1.csv',names=['ds1'])\n",
    "ds1.hist(bins=30)"
   ]
  },
  {
   "cell_type": "code",
   "execution_count": null,
   "metadata": {},
   "outputs": [],
   "source": []
  },
  {
   "cell_type": "code",
   "execution_count": null,
   "metadata": {},
   "outputs": [],
   "source": []
  },
  {
   "cell_type": "code",
   "execution_count": null,
   "metadata": {},
   "outputs": [],
   "source": []
  },
  {
   "cell_type": "code",
   "execution_count": null,
   "metadata": {},
   "outputs": [],
   "source": []
  },
  {
   "cell_type": "code",
   "execution_count": 185,
   "metadata": {},
   "outputs": [],
   "source": [
    "test = pd.read_csv('TipXY_A001_r0.1.txt',names=['x','y','z'],delim_whitespace=True)"
   ]
  },
  {
   "cell_type": "code",
   "execution_count": 186,
   "metadata": {},
   "outputs": [],
   "source": [
    "try:\n",
    "    os.remove('ub.csv')\n",
    "except(OSError,RuntimeError,TypeError,NameError):\n",
    "    pass\n",
    "\n",
    "p = 0; q = 1; df = test;\n",
    "\n",
    "while q<301:\n",
    "    x0 = df.loc[p,'x']\n",
    "    x1 = df.loc[q,'x']\n",
    "    y0 = df.loc[p,'y']\n",
    "    y1 = df.loc[q,'y']\n",
    "    u = np.array([(x1-x0),(y1-y0)])\n",
    "    ub = np.true_divide(u,np.sqrt((x1-x0)**2 + (y1-y0)**2))\n",
    "    with open('ub.csv','a') as fd:\n",
    "        writer = csv.writer(fd)\n",
    "        writer.writerow(ub)\n",
    "    p = p+1; q = q+1\n",
    "ub = pd.read_csv('ub.csv', names=['dx','dy'])"
   ]
  },
  {
   "cell_type": "code",
   "execution_count": 187,
   "metadata": {},
   "outputs": [],
   "source": [
    "try:\n",
    "    os.remove('ds1.csv')\n",
    "    os.remove('Ds.csv')\n",
    "except(OSError,RuntimeError,TypeError,NameError):\n",
    "    pass\n",
    "\n",
    "i = 0; ii = 0; il = 298; s=1\n",
    "\n",
    "while il>0:\n",
    "    while i<il:\n",
    "        ds1 = np.dot(ub.loc[i],ub.loc[(i+ii)])\n",
    "        with open('ds1.csv','a') as fd:\n",
    "            writer = csv.writer(fd)\n",
    "            writer.writerow([ds1])\n",
    "        i=i+1\n",
    "        #print('i = ',i)\n",
    "    ds1 = pd.read_csv('ds1.csv',names=['ds1'])\n",
    "    Ds = float(ds1.mean())\n",
    "    rows = np.array([s,Ds])\n",
    "    with open('Ds.csv','a') as fd:\n",
    "        writer = csv.writer(fd)\n",
    "        writer.writerow(rows)\n",
    "    i=0; ii=ii+1; il=il-1; s=s+1\n",
    "    #print('il = ',il)\n",
    "    os.remove('ds1.csv')\n",
    "Ds = pd.read_csv('Ds.csv',names=['s','Ds'])"
   ]
  },
  {
   "cell_type": "code",
   "execution_count": 188,
   "metadata": {},
   "outputs": [
    {
     "data": {
      "text/plain": [
       "<matplotlib.collections.PathCollection at 0x7fda87ceb630>"
      ]
     },
     "execution_count": 188,
     "metadata": {},
     "output_type": "execute_result"
    },
    {
     "data": {
      "image/png": "[encoded data removed]",
      "text/plain": [
       "<Figure size 432x288 with 1 Axes>"
      ]
     },
     "metadata": {
      "needs_background": "light"
     },
     "output_type": "display_data"
    }
   ],
   "source": [
    "plt.scatter(Ds['s'],Ds['Ds'],facecolors='none',edgecolors='g')"
   ]
  },
  {
   "cell_type": "code",
   "execution_count": null,
   "metadata": {},
   "outputs": [],
   "source": []
  },
  {
   "cell_type": "code",
   "execution_count": null,
   "metadata": {},
   "outputs": [],
   "source": []
  },
  {
   "cell_type": "code",
   "execution_count": 83,
   "metadata": {},
   "outputs": [
    {
     "data": {
      "text/plain": [
       "ds2    0.086133\n",
       "dtype: float64"
      ]
     },
     "execution_count": 83,
     "metadata": {},
     "output_type": "execute_result"
    }
   ],
   "source": [
    "try:\n",
    "    os.remove('ds2.csv')\n",
    "except(OSError,RuntimeError,TypeError,NameError):\n",
    "    pass\n",
    "\n",
    "i = 0\n",
    "\n",
    "while i<297:\n",
    "    Ubi = Ub.loc[i,'Ub']\n",
    "    Ubii = Ub.loc[(i+2),'Ub']\n",
    "    ds2 = np.dot(Ubi,Ubii)\n",
    "    with open('ds2.csv','a') as fd:\n",
    "        writer = csv.writer(fd)\n",
    "        writer.writerow([ds2])\n",
    "    i=i+1\n",
    "ds2 = pd.read_csv('ds2.csv',names=['ds2'])\n",
    "Ds2 = ds2.mean()\n",
    "Ds2"
   ]
  },
  {
   "cell_type": "code",
   "execution_count": 123,
   "metadata": {},
   "outputs": [],
   "source": [
    "try:\n",
    "    os.remove('Ub.csv')\n",
    "except(OSError,RuntimeError,TypeError,NameError):\n",
    "    pass\n",
    "\n",
    "m = 0; n = 1\n",
    "\n",
    "while n<300:\n",
    "    Ub = np.dot(ub.loc[m],ub.loc[n])\n",
    "    with open('Ub.csv','a') as fd:\n",
    "        writer = csv.writer(fd)\n",
    "        writer.writerow([Ub])\n",
    "    m = m+1; n = n+1\n",
    "Ub = pd.read_csv('Ub.csv',names=['Ub'])"
   ]
  },
  {
   "cell_type": "code",
   "execution_count": null,
   "metadata": {},
   "outputs": [],
   "source": []
  },
  {
   "cell_type": "code",
   "execution_count": null,
   "metadata": {},
   "outputs": [],
   "source": []
  },
  {
   "cell_type": "code",
   "execution_count": null,
   "metadata": {},
   "outputs": [],
   "source": []
  },
  {
   "cell_type": "code",
   "execution_count": 68,
   "metadata": {},
   "outputs": [],
   "source": [
    "try:\n",
    "    os.remove('ds3.csv')\n",
    "except(OSError,RuntimeError,TypeError,NameError):\n",
    "    pass\n",
    "\n",
    "i = 0\n",
    "\n",
    "while i<296:\n",
    "    Ubi = Ub.loc[i,'Ub']\n",
    "    Ubii = Ub.loc[(i+3),'Ub']\n",
    "    ds3 = np.dot(Ubi,Ubii)\n",
    "    with open('ds3.csv','a') as fd:\n",
    "        writer = csv.writer(fd)\n",
    "        writer.writerow([ds3])\n",
    "    i=i+1\n",
    "ds3 = pd.read_csv('ds3.csv',names=['ds3'])\n",
    "Ds3 = ds3.mean()"
   ]
  },
  {
   "cell_type": "code",
   "execution_count": 69,
   "metadata": {},
   "outputs": [],
   "source": [
    "try:\n",
    "    os.remove('ds4.csv')\n",
    "except(OSError,RuntimeError,TypeError,NameError):\n",
    "    pass\n",
    "\n",
    "i = 0\n",
    "\n",
    "while i<295:\n",
    "    Ubi = Ub.loc[i,'Ub']\n",
    "    Ubii = Ub.loc[(i+4),'Ub']\n",
    "    ds4 = np.dot(Ubi,Ubii)\n",
    "    with open('ds4.csv','a') as fd:\n",
    "        writer = csv.writer(fd)\n",
    "        writer.writerow([ds4])\n",
    "    i=i+1\n",
    "ds4 = pd.read_csv('ds4.csv',names=['ds4'])\n",
    "Ds4 = ds4.mean()"
   ]
  },
  {
   "cell_type": "code",
   "execution_count": null,
   "metadata": {},
   "outputs": [],
   "source": []
  }
 ],
 "metadata": {
  "kernelspec": {
   "display_name": "Python 3",
   "language": "python",
   "name": "python3"
  },
  "language_info": {
   "codemirror_mode": {
    "name": "ipython",
    "version": 3
   },
   "file_extension": ".py",
   "mimetype": "text/x-python",
   "name": "python",
   "nbconvert_exporter": "python",
   "pygments_lexer": "ipython3",
   "version": "3.6.6"
  }
 },
 "nbformat": 4,
 "nbformat_minor": 2
}
